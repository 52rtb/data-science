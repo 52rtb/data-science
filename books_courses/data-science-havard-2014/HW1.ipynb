{
 "cells": [
  {
   "cell_type": "markdown",
   "metadata": {
    "slideshow": {
     "slide_type": "slide"
    }
   },
   "source": [
    "# Homework 1. Exploratory Data Analysis\n",
    "\n",
    "Due: Thursday, September 18, 2014 11:59 PM\n",
    "\n",
    "<a href=https://raw.githubusercontent.com/cs109/2014/master/homework/HW1.ipynb download=HW1.ipynb> Download this assignment</a>\n",
    "\n",
    "---"
   ]
  },
  {
   "cell_type": "markdown",
   "metadata": {
    "slideshow": {
     "slide_type": "slide"
    }
   },
   "source": [
    "## Introduction\n",
    "\n",
    "In this homework we ask you three questions that we expect you to answer using data. For each question we ask you to complete a series of tasks that should help guide you through the data analysis. Complete these tasks and then write a short (100 words or less) answer to the question.\n",
    "\n",
    "**Note**: We will briefly discuss this homework assignment on Thursday in class.\n",
    "\n",
    "#### Data\n",
    "For this assignment we will use two databases: \n",
    "\n",
    "1. The [Sean Lahman's Baseball Database](http://seanlahman.com/baseball-archive/statistics) which contains the \"complete batting and pitching statistics from 1871 to 2013, plus fielding statistics, standings, team stats, managerial records, post-season data, and more. For more details on the latest release, please [read the documentation](http://seanlahman.com/files/database/readme2012.txt).\"\n",
    "\n",
    "2. [Gapminder](http://www.gapminder.org) is a great resource that contains over [500 data sets](http://www.gapminder.org/data/) related to world indicators such as income, GDP and life expectancy. \n",
    "\n",
    "\n",
    "#### Purpose\n",
    "\n",
    "In this assignment, you will learn how to: \n",
    "\n",
    "a. Load in CSV files from the web. \n",
    "\n",
    "b. Create functions in python. \n",
    "\n",
    "C. Create plots and summary statistics for exploratory data analysis such as histograms, boxplots and scatter plots. \n",
    "\n",
    "\n",
    "#### Useful libraries for this assignment \n",
    "\n",
    "* [numpy](http://docs.scipy.org/doc/numpy-dev/user/index.html), for arrays\n",
    "* [pandas](http://pandas.pydata.org/), for data frames\n",
    "* [matplotlib](http://matplotlib.org/), for plotting\n",
    "\n",
    "---"
   ]
  },
  {
   "cell_type": "code",
   "execution_count": 1,
   "metadata": {
    "collapsed": false,
    "slideshow": {
     "slide_type": "slide"
    }
   },
   "outputs": [],
   "source": [
    "# special IPython command to prepare the notebook for matplotlib\n",
    "import copy\n",
    "import requests\n",
    "import cStringIO # faster and better than stringio\n",
    "import zipfile\n",
    "\n",
    "import numpy as np\n",
    "import pandas as pd\n",
    "pd.options.display.max_columns = 50\n",
    "pd.options.display.max_rows = 100\n",
    "\n",
    "import matplotlib.pyplot as plt\n",
    "%matplotlib inline \n",
    "import seaborn\n",
    "import mpld3"
   ]
  },
  {
   "cell_type": "markdown",
   "metadata": {
    "slideshow": {
     "slide_type": "slide"
    }
   },
   "source": [
    "## Problem 1\n",
    "\n",
    "In Lecture 1, we showed a plot that provided evidence that the 2002 and 2003 Oakland A's, a team that used data science, had a competitive advantage. Since, others teams have started using data science as well. Use exploratory data analysis to determine if the competitive advantage has since disappeared. "
   ]
  },
  {
   "cell_type": "markdown",
   "metadata": {
    "slideshow": {
     "slide_type": "slide"
    }
   },
   "source": [
    "#### Problem 1(a) \n",
    "Load in [these CSV files](http://seanlahman.com/files/database/lahman-csv_2014-02-14.zip) from the [Sean Lahman's Baseball Database](http://seanlahman.com/baseball-archive/statistics). For this assignment, we will use the 'Salaries.csv' and 'Teams.csv' tables. Read these tables into a pandas `DataFrame` and show the head of each table. \n",
    "\n",
    "**Hint** Use the [requests](http://docs.python-requests.org/en/latest/), [StringIO](http://docs.python.org/2/library/stringio.html) and [zipfile](https://docs.python.org/2/library/zipfile.html) modules to get from the web.  "
   ]
  },
  {
   "cell_type": "code",
   "execution_count": 4,
   "metadata": {
    "collapsed": false,
    "scrolled": true
   },
   "outputs": [
    {
     "name": "stdout",
     "output_type": "stream",
     "text": [
      "--2015-09-17 00:16:23--  http://seanlahman.com/files/database/lahman-csv_2014-02-14.zip\n",
      "Resolving seanlahman.com... 208.113.136.74\n",
      "Connecting to seanlahman.com|208.113.136.74|:80... connected.\n",
      "HTTP request sent, awaiting response... 200 OK\n",
      "Length: 8640782 (8.2M) [application/zip]\n",
      "Saving to: '/mnt/tmp/cs109/lahman-csv_2014-02-14.zip'\n",
      "\n",
      "/mnt/tmp/cs109/lahm 100%[=====================>]   8.24M  67.6KB/s   in 4m 20s \n",
      "\n",
      "2015-09-17 00:20:43 (32.5 KB/s) - '/mnt/tmp/cs109/lahman-csv_2014-02-14.zip' saved [8640782/8640782]\n",
      "\n",
      "x SchoolsPlayers.csv\n",
      "x SeriesPost.csv\n",
      "x Teams.csv\n",
      "x TeamsFranchises.csv\n",
      "x TeamsHalf.csv\n",
      "x AllstarFull.csv\n",
      "x Appearances.csv\n",
      "x AwardsManagers.csv\n",
      "x AwardsPlayers.csv\n",
      "x AwardsShareManagers.csv\n",
      "x AwardsSharePlayers.csv\n",
      "x Batting.csv\n",
      "x BattingPost.csv\n",
      "x Fielding.csv\n",
      "x FieldingOF.csv\n",
      "x FieldingPost.csv\n",
      "x HallOfFame.csv\n",
      "x Managers.csv\n",
      "x ManagersHalf.csv\n",
      "x Master.csv\n",
      "x Pitching.csv\n",
      "x PitchingPost.csv\n",
      "x readme2013.txt\n",
      "x Salaries.csv\n",
      "x Schools.csv\n"
     ]
    }
   ],
   "source": [
    "# download file into a temp directory, for just one time\n",
    "! wget \"http://seanlahman.com/files/database/lahman-csv_2014-02-14.zip\" -P \"/mnt/tmp/cs109/\"\n",
    "!mkdir -p /mnt/tmp/cs109/lahman-csv_2014-02-14  && tar xzfv  /mnt/tmp/cs109/lahman-csv_2014-02-14.zip -C /mnt/tmp/cs109/lahman-csv_2014-02-14"
   ]
  },
  {
   "cell_type": "code",
   "execution_count": 9,
   "metadata": {
    "collapsed": false,
    "slideshow": {
     "slide_type": "subslide"
    }
   },
   "outputs": [],
   "source": [
    "# I've downloaded the file into a tmp directory in advanced\n",
    "filepath = '/mnt/tmp/cs109/'\n",
    "salaries = pd.read_csv(filepath + 'lahman-csv_2014-02-14/Salaries.csv')\n",
    "teams = pd.read_csv(filepath + 'lahman-csv_2014-02-14/Teams.csv')"
   ]
  },
  {
   "cell_type": "code",
   "execution_count": 16,
   "metadata": {
    "collapsed": false
   },
   "outputs": [
    {
     "name": "stdout",
     "output_type": "stream",
     "text": [
      "23956\n"
     ]
    },
    {
     "data": {
      "text/html": [
       "<div>\n",
       "<table border=\"1\" class=\"dataframe\">\n",
       "  <thead>\n",
       "    <tr style=\"text-align: right;\">\n",
       "      <th></th>\n",
       "      <th>yearID</th>\n",
       "      <th>teamID</th>\n",
       "      <th>lgID</th>\n",
       "      <th>playerID</th>\n",
       "      <th>salary</th>\n",
       "    </tr>\n",
       "  </thead>\n",
       "  <tbody>\n",
       "    <tr>\n",
       "      <th>0</th>\n",
       "      <td>1985</td>\n",
       "      <td>BAL</td>\n",
       "      <td>AL</td>\n",
       "      <td>murraed02</td>\n",
       "      <td>1472819</td>\n",
       "    </tr>\n",
       "    <tr>\n",
       "      <th>1</th>\n",
       "      <td>1985</td>\n",
       "      <td>BAL</td>\n",
       "      <td>AL</td>\n",
       "      <td>lynnfr01</td>\n",
       "      <td>1090000</td>\n",
       "    </tr>\n",
       "  </tbody>\n",
       "</table>\n",
       "</div>"
      ],
      "text/plain": [
       "   yearID teamID lgID   playerID   salary\n",
       "0    1985    BAL   AL  murraed02  1472819\n",
       "1    1985    BAL   AL   lynnfr01  1090000"
      ]
     },
     "execution_count": 16,
     "metadata": {},
     "output_type": "execute_result"
    }
   ],
   "source": [
    "print len(salaries)\n",
    "salaries.head(2)"
   ]
  },
  {
   "cell_type": "code",
   "execution_count": 69,
   "metadata": {
    "collapsed": false
   },
   "outputs": [
    {
     "name": "stdout",
     "output_type": "stream",
     "text": [
      "2745\n"
     ]
    },
    {
     "data": {
      "text/html": [
       "<div>\n",
       "<table border=\"1\" class=\"dataframe\">\n",
       "  <thead>\n",
       "    <tr style=\"text-align: right;\">\n",
       "      <th></th>\n",
       "      <th>yearID</th>\n",
       "      <th>lgID</th>\n",
       "      <th>teamID</th>\n",
       "      <th>franchID</th>\n",
       "      <th>divID</th>\n",
       "      <th>Rank</th>\n",
       "      <th>G</th>\n",
       "      <th>Ghome</th>\n",
       "      <th>W</th>\n",
       "      <th>L</th>\n",
       "      <th>DivWin</th>\n",
       "      <th>WCWin</th>\n",
       "      <th>LgWin</th>\n",
       "      <th>WSWin</th>\n",
       "      <th>R</th>\n",
       "      <th>AB</th>\n",
       "      <th>H</th>\n",
       "      <th>2B</th>\n",
       "      <th>3B</th>\n",
       "      <th>HR</th>\n",
       "      <th>BB</th>\n",
       "      <th>SO</th>\n",
       "      <th>SB</th>\n",
       "      <th>CS</th>\n",
       "      <th>HBP</th>\n",
       "      <th>SF</th>\n",
       "      <th>RA</th>\n",
       "      <th>ER</th>\n",
       "      <th>ERA</th>\n",
       "      <th>CG</th>\n",
       "      <th>SHO</th>\n",
       "      <th>SV</th>\n",
       "      <th>IPouts</th>\n",
       "      <th>HA</th>\n",
       "      <th>HRA</th>\n",
       "      <th>BBA</th>\n",
       "      <th>SOA</th>\n",
       "      <th>E</th>\n",
       "      <th>DP</th>\n",
       "      <th>FP</th>\n",
       "      <th>name</th>\n",
       "      <th>park</th>\n",
       "      <th>attendance</th>\n",
       "      <th>BPF</th>\n",
       "      <th>PPF</th>\n",
       "      <th>teamIDBR</th>\n",
       "      <th>teamIDlahman45</th>\n",
       "      <th>teamIDretro</th>\n",
       "    </tr>\n",
       "  </thead>\n",
       "  <tbody>\n",
       "    <tr>\n",
       "      <th>0</th>\n",
       "      <td>1871</td>\n",
       "      <td>NaN</td>\n",
       "      <td>PH1</td>\n",
       "      <td>PNA</td>\n",
       "      <td>NaN</td>\n",
       "      <td>1</td>\n",
       "      <td>28</td>\n",
       "      <td>NaN</td>\n",
       "      <td>21</td>\n",
       "      <td>7</td>\n",
       "      <td>NaN</td>\n",
       "      <td>NaN</td>\n",
       "      <td>Y</td>\n",
       "      <td>NaN</td>\n",
       "      <td>376</td>\n",
       "      <td>1281</td>\n",
       "      <td>410</td>\n",
       "      <td>66</td>\n",
       "      <td>27</td>\n",
       "      <td>9</td>\n",
       "      <td>46</td>\n",
       "      <td>23</td>\n",
       "      <td>56</td>\n",
       "      <td>NaN</td>\n",
       "      <td>NaN</td>\n",
       "      <td>NaN</td>\n",
       "      <td>266</td>\n",
       "      <td>137</td>\n",
       "      <td>4.95</td>\n",
       "      <td>27</td>\n",
       "      <td>0</td>\n",
       "      <td>0</td>\n",
       "      <td>747</td>\n",
       "      <td>329</td>\n",
       "      <td>3</td>\n",
       "      <td>53</td>\n",
       "      <td>16</td>\n",
       "      <td>194</td>\n",
       "      <td>NaN</td>\n",
       "      <td>0.84</td>\n",
       "      <td>Philadelphia Athletics</td>\n",
       "      <td>Jefferson Street Grounds</td>\n",
       "      <td>NaN</td>\n",
       "      <td>102</td>\n",
       "      <td>98</td>\n",
       "      <td>ATH</td>\n",
       "      <td>PH1</td>\n",
       "      <td>PH1</td>\n",
       "    </tr>\n",
       "    <tr>\n",
       "      <th>1</th>\n",
       "      <td>1871</td>\n",
       "      <td>NaN</td>\n",
       "      <td>CH1</td>\n",
       "      <td>CNA</td>\n",
       "      <td>NaN</td>\n",
       "      <td>2</td>\n",
       "      <td>28</td>\n",
       "      <td>NaN</td>\n",
       "      <td>19</td>\n",
       "      <td>9</td>\n",
       "      <td>NaN</td>\n",
       "      <td>NaN</td>\n",
       "      <td>N</td>\n",
       "      <td>NaN</td>\n",
       "      <td>302</td>\n",
       "      <td>1196</td>\n",
       "      <td>323</td>\n",
       "      <td>52</td>\n",
       "      <td>21</td>\n",
       "      <td>10</td>\n",
       "      <td>60</td>\n",
       "      <td>22</td>\n",
       "      <td>69</td>\n",
       "      <td>NaN</td>\n",
       "      <td>NaN</td>\n",
       "      <td>NaN</td>\n",
       "      <td>241</td>\n",
       "      <td>77</td>\n",
       "      <td>2.76</td>\n",
       "      <td>25</td>\n",
       "      <td>0</td>\n",
       "      <td>1</td>\n",
       "      <td>753</td>\n",
       "      <td>308</td>\n",
       "      <td>6</td>\n",
       "      <td>28</td>\n",
       "      <td>22</td>\n",
       "      <td>218</td>\n",
       "      <td>NaN</td>\n",
       "      <td>0.82</td>\n",
       "      <td>Chicago White Stockings</td>\n",
       "      <td>Union Base-Ball Grounds</td>\n",
       "      <td>NaN</td>\n",
       "      <td>104</td>\n",
       "      <td>102</td>\n",
       "      <td>CHI</td>\n",
       "      <td>CH1</td>\n",
       "      <td>CH1</td>\n",
       "    </tr>\n",
       "  </tbody>\n",
       "</table>\n",
       "</div>"
      ],
      "text/plain": [
       "   yearID lgID teamID franchID divID  Rank   G  Ghome   W  L DivWin WCWin  \\\n",
       "0    1871  NaN    PH1      PNA   NaN     1  28    NaN  21  7    NaN   NaN   \n",
       "1    1871  NaN    CH1      CNA   NaN     2  28    NaN  19  9    NaN   NaN   \n",
       "\n",
       "  LgWin WSWin    R    AB    H  2B  3B  HR  BB  SO  SB  CS  HBP  SF   RA   ER  \\\n",
       "0     Y   NaN  376  1281  410  66  27   9  46  23  56 NaN  NaN NaN  266  137   \n",
       "1     N   NaN  302  1196  323  52  21  10  60  22  69 NaN  NaN NaN  241   77   \n",
       "\n",
       "    ERA  CG  SHO  SV  IPouts   HA  HRA  BBA  SOA    E  DP    FP  \\\n",
       "0  4.95  27    0   0     747  329    3   53   16  194 NaN  0.84   \n",
       "1  2.76  25    0   1     753  308    6   28   22  218 NaN  0.82   \n",
       "\n",
       "                      name                      park  attendance  BPF  PPF  \\\n",
       "0   Philadelphia Athletics  Jefferson Street Grounds         NaN  102   98   \n",
       "1  Chicago White Stockings   Union Base-Ball Grounds         NaN  104  102   \n",
       "\n",
       "  teamIDBR teamIDlahman45 teamIDretro  \n",
       "0      ATH            PH1         PH1  \n",
       "1      CHI            CH1         CH1  "
      ]
     },
     "execution_count": 69,
     "metadata": {},
     "output_type": "execute_result"
    }
   ],
   "source": [
    "print len(teams)\n",
    "teams.head(2)"
   ]
  },
  {
   "cell_type": "markdown",
   "metadata": {},
   "source": [
    "#### Problem 1(b)\n",
    "\n",
    "Summarize the Salaries DataFrame to show the total salaries for each team for each year. Show the head of the new summarized DataFrame. "
   ]
  },
  {
   "cell_type": "code",
   "execution_count": 63,
   "metadata": {
    "collapsed": false
   },
   "outputs": [
    {
     "data": {
      "text/html": [
       "<div>\n",
       "<table border=\"1\" class=\"dataframe\">\n",
       "  <thead>\n",
       "    <tr style=\"text-align: right;\">\n",
       "      <th></th>\n",
       "      <th>yearID</th>\n",
       "      <th>teamID</th>\n",
       "      <th>salary</th>\n",
       "    </tr>\n",
       "  </thead>\n",
       "  <tbody>\n",
       "    <tr>\n",
       "      <th>0</th>\n",
       "      <td>1985</td>\n",
       "      <td>ATL</td>\n",
       "      <td>14807000</td>\n",
       "    </tr>\n",
       "    <tr>\n",
       "      <th>1</th>\n",
       "      <td>1985</td>\n",
       "      <td>BAL</td>\n",
       "      <td>11560712</td>\n",
       "    </tr>\n",
       "    <tr>\n",
       "      <th>2</th>\n",
       "      <td>1985</td>\n",
       "      <td>BOS</td>\n",
       "      <td>10897560</td>\n",
       "    </tr>\n",
       "    <tr>\n",
       "      <th>3</th>\n",
       "      <td>1985</td>\n",
       "      <td>CAL</td>\n",
       "      <td>14427894</td>\n",
       "    </tr>\n",
       "    <tr>\n",
       "      <th>4</th>\n",
       "      <td>1985</td>\n",
       "      <td>CHA</td>\n",
       "      <td>9846178</td>\n",
       "    </tr>\n",
       "  </tbody>\n",
       "</table>\n",
       "</div>"
      ],
      "text/plain": [
       "   yearID teamID    salary\n",
       "0    1985    ATL  14807000\n",
       "1    1985    BAL  11560712\n",
       "2    1985    BOS  10897560\n",
       "3    1985    CAL  14427894\n",
       "4    1985    CHA   9846178"
      ]
     },
     "execution_count": 63,
     "metadata": {},
     "output_type": "execute_result"
    }
   ],
   "source": [
    "#your code here\n",
    "grouped = salaries.groupby(['yearID', 'teamID'], as_index=False)\n",
    "grouped.aggregate({'salary': sum}).head(5)"
   ]
  },
  {
   "cell_type": "markdown",
   "metadata": {},
   "source": [
    "#### Problem 1(c)\n",
    "\n",
    "Merge the new summarized Salaries DataFrame and Teams DataFrame together to create a new DataFrame\n",
    "showing wins and total salaries for each team for each year year. Show the head of the new merged DataFrame.\n",
    "\n",
    "**Hint**: Merge the DataFrames using `teamID` and `yearID`."
   ]
  },
  {
   "cell_type": "code",
   "execution_count": 83,
   "metadata": {
    "collapsed": false
   },
   "outputs": [
    {
     "data": {
      "text/html": [
       "<div>\n",
       "<table border=\"1\" class=\"dataframe\">\n",
       "  <thead>\n",
       "    <tr style=\"text-align: right;\">\n",
       "      <th></th>\n",
       "      <th>yearID</th>\n",
       "      <th>teamID</th>\n",
       "      <th>salary</th>\n",
       "      <th>W</th>\n",
       "      <th>name</th>\n",
       "    </tr>\n",
       "  </thead>\n",
       "  <tbody>\n",
       "    <tr>\n",
       "      <th>0</th>\n",
       "      <td>1985</td>\n",
       "      <td>ATL</td>\n",
       "      <td>14807000</td>\n",
       "      <td>66</td>\n",
       "      <td>Atlanta Braves</td>\n",
       "    </tr>\n",
       "    <tr>\n",
       "      <th>1</th>\n",
       "      <td>1985</td>\n",
       "      <td>BAL</td>\n",
       "      <td>11560712</td>\n",
       "      <td>83</td>\n",
       "      <td>Baltimore Orioles</td>\n",
       "    </tr>\n",
       "    <tr>\n",
       "      <th>2</th>\n",
       "      <td>1985</td>\n",
       "      <td>BOS</td>\n",
       "      <td>10897560</td>\n",
       "      <td>81</td>\n",
       "      <td>Boston Red Sox</td>\n",
       "    </tr>\n",
       "    <tr>\n",
       "      <th>3</th>\n",
       "      <td>1985</td>\n",
       "      <td>CAL</td>\n",
       "      <td>14427894</td>\n",
       "      <td>90</td>\n",
       "      <td>California Angels</td>\n",
       "    </tr>\n",
       "    <tr>\n",
       "      <th>4</th>\n",
       "      <td>1985</td>\n",
       "      <td>CHA</td>\n",
       "      <td>9846178</td>\n",
       "      <td>85</td>\n",
       "      <td>Chicago White Sox</td>\n",
       "    </tr>\n",
       "  </tbody>\n",
       "</table>\n",
       "</div>"
      ],
      "text/plain": [
       "   yearID teamID    salary   W               name\n",
       "0    1985    ATL  14807000  66     Atlanta Braves\n",
       "1    1985    BAL  11560712  83  Baltimore Orioles\n",
       "2    1985    BOS  10897560  81     Boston Red Sox\n",
       "3    1985    CAL  14427894  90  California Angels\n",
       "4    1985    CHA   9846178  85  Chicago White Sox"
      ]
     },
     "execution_count": 83,
     "metadata": {},
     "output_type": "execute_result"
    }
   ],
   "source": [
    "#your code here\n",
    "merged = pd.merge(left=grouped.aggregate({'salary': sum}), right=teams, how='inner', on=['teamID', 'yearID'])\n",
    "merged[['yearID', 'teamID', 'salary', 'W', 'name']].head(5)"
   ]
  },
  {
   "cell_type": "markdown",
   "metadata": {},
   "source": [
    "#### Problem 1(d)\n",
    "\n",
    "How would you graphically display the relationship between total wins and total salaries for a given year? What kind of plot would be best? Choose a plot to show this relationship and specifically annotate the Oakland baseball team on the on the plot. Show this plot across multiple years. In which years can you detect a competitive advantage from the Oakland baseball team of using data science? When did this end? \n",
    "\n",
    "**Hints**: Use a `for` loop to consider multiple years. Use the `teamID` (three letter representation of the team name) to save space on the plot.  "
   ]
  },
  {
   "cell_type": "code",
   "execution_count": 150,
   "metadata": {
    "collapsed": false
   },
   "outputs": [
    {
     "data": {
      "image/png": "[encoded data removed]",
      "text/plain": [
       "<matplotlib.figure.Figure at 0x10fa68490>"
      ]
     },
     "metadata": {},
     "output_type": "display_data"
    }
   ],
   "source": [
    "#your code here\n",
    "year = 1985\n",
    "annotate_name = 'Oakland Athletics'\n",
    "\n",
    "fig = plt.figure(figsize=(20, 15))\n",
    "ax = fig.add_subplot(111)\n",
    "    \n",
    "for year in range(1985, 2000):\n",
    "\n",
    "    year_data = merged[merged['yearID'] == year].sort(columns=['W'])\n",
    "    annotate_data = year_data[year_data['name'] == annotate_name]\n",
    "\n",
    "#     fig = plt.figure(figsize=(10, 5))\n",
    "#     ax = fig.add_subplot(111)\n",
    "    ax.plot(list(year_data['W']), list(year_data['salary']), 'o', label=year)\n",
    "    ax.plot(annotate_data['W'], annotate_data['salary'], 'or')\n",
    "#     ax.plot(list(year_data['salary']), list(year_data['W']), 'o', label=year)\n",
    "#     ax.plot(annotate_data['salary'], annotate_data['W'], 'or')\n",
    "    ax.legend()\n",
    "    ax.annotate('Oak: ' + str(year) , xy=(annotate_data['W'], annotate_data['salary']))"
   ]
  },
  {
   "cell_type": "markdown",
   "metadata": {},
   "source": [
    "#### Problem 1(e):\n",
    "\n",
    "**For AC209 Students**: Fit a linear regression to the data from each year and obtain the residuals. Plot the residuals against time to detect patterns that support your answer in 1(d). "
   ]
  },
  {
   "cell_type": "code",
   "execution_count": 5,
   "metadata": {
    "collapsed": false
   },
   "outputs": [],
   "source": [
    "#your code here"
   ]
  },
  {
   "cell_type": "markdown",
   "metadata": {},
   "source": [
    "## Discussion for Problem 1\n",
    "\n",
    "*Write a brief discussion of your conclusions to the questions and tasks above in 100 words or less.*\n",
    "\n",
    "---\n"
   ]
  },
  {
   "cell_type": "markdown",
   "metadata": {},
   "source": [
    "## Problem 2\n",
    "\n",
    "Several media reports have demonstrated the income inequality has increased in the US during this last decade. Here we will look at global data. Use exploratory data analysis to determine if the gap between Africa/Latin America/Asia and Europe/NorthAmerica has increased, decreased or stayed the same during the last two decades. "
   ]
  },
  {
   "cell_type": "markdown",
   "metadata": {},
   "source": [
    "#### Problem 2(a)\n",
    "\n",
    "Using the list of countries by continent from [World Atlas](http://www.worldatlas.com/cntycont.htm) data, load in the `countries.csv` file into a pandas DataFrame and name this data set as `countries`.  This data set can be found on Github in the 2014_data repository [here](https://github.com/cs109/2014_data/blob/master/countries.csv). "
   ]
  },
  {
   "cell_type": "code",
   "execution_count": 154,
   "metadata": {
    "collapsed": false
   },
   "outputs": [
    {
     "data": {
      "text/html": [
       "<div>\n",
       "<table border=\"1\" class=\"dataframe\">\n",
       "  <thead>\n",
       "    <tr style=\"text-align: right;\">\n",
       "      <th></th>\n",
       "      <th>Country</th>\n",
       "      <th>Region</th>\n",
       "    </tr>\n",
       "  </thead>\n",
       "  <tbody>\n",
       "    <tr>\n",
       "      <th>0</th>\n",
       "      <td>Algeria</td>\n",
       "      <td>AFRICA</td>\n",
       "    </tr>\n",
       "    <tr>\n",
       "      <th>1</th>\n",
       "      <td>Angola</td>\n",
       "      <td>AFRICA</td>\n",
       "    </tr>\n",
       "  </tbody>\n",
       "</table>\n",
       "</div>"
      ],
      "text/plain": [
       "   Country  Region\n",
       "0  Algeria  AFRICA\n",
       "1   Angola  AFRICA"
      ]
     },
     "execution_count": 154,
     "metadata": {},
     "output_type": "execute_result"
    }
   ],
   "source": [
    "#your code here\n",
    "countries = pd.read_csv('https://raw.githubusercontent.com/cs109/2014_data/master/countries.csv')\n",
    "countries.head(2)"
   ]
  },
  {
   "cell_type": "markdown",
   "metadata": {},
   "source": [
    "Using the [data available on Gapminder](http://www.gapminder.org/data/), load in the [Income per person (GDP/capita, PPP$ inflation-adjusted)](https://spreadsheets.google.com/pub?key=phAwcNAVuyj1jiMAkmq1iMg&gid=0) as a pandas DataFrame and name this data set as `income`.\n",
    "\n",
    "**Hint**: Consider using the pandas function `pandas.read_excel()` to read in the .xlsx file directly."
   ]
  },
  {
   "cell_type": "code",
   "execution_count": 228,
   "metadata": {
    "collapsed": false
   },
   "outputs": [],
   "source": [
    "#your code here\n",
    "raw_income = pd.read_excel('https://docs.google.com/spreadsheets/u/1/d/1PybxH399kK6OjJI4T2M33UsLqgutwj3SuYbk7Yt6sxE/pub?output=xls',sheetname='Data')"
   ]
  },
  {
   "cell_type": "code",
   "execution_count": 251,
   "metadata": {
    "collapsed": false
   },
   "outputs": [
    {
     "data": {
      "text/html": [
       "<div>\n",
       "<table border=\"1\" class=\"dataframe\">\n",
       "  <thead>\n",
       "    <tr style=\"text-align: right;\">\n",
       "      <th></th>\n",
       "      <th>GDP per capita</th>\n",
       "      <th>1800</th>\n",
       "      <th>1801</th>\n",
       "      <th>1802</th>\n",
       "      <th>1803</th>\n",
       "      <th>1804</th>\n",
       "      <th>1805</th>\n",
       "      <th>1806</th>\n",
       "      <th>1807</th>\n",
       "      <th>1808</th>\n",
       "      <th>1809</th>\n",
       "      <th>1810</th>\n",
       "      <th>1811</th>\n",
       "      <th>1812</th>\n",
       "      <th>1813</th>\n",
       "      <th>1814</th>\n",
       "      <th>1815</th>\n",
       "      <th>1816</th>\n",
       "      <th>1817</th>\n",
       "      <th>1818</th>\n",
       "      <th>1819</th>\n",
       "      <th>1820</th>\n",
       "      <th>1821</th>\n",
       "      <th>1822</th>\n",
       "      <th>1823</th>\n",
       "      <th>...</th>\n",
       "      <th>1989</th>\n",
       "      <th>1990</th>\n",
       "      <th>1991</th>\n",
       "      <th>1992</th>\n",
       "      <th>1993</th>\n",
       "      <th>1994</th>\n",
       "      <th>1995</th>\n",
       "      <th>1996</th>\n",
       "      <th>1997</th>\n",
       "      <th>1998</th>\n",
       "      <th>1999</th>\n",
       "      <th>2000</th>\n",
       "      <th>2001</th>\n",
       "      <th>2002</th>\n",
       "      <th>2003</th>\n",
       "      <th>2004</th>\n",
       "      <th>2005</th>\n",
       "      <th>2006</th>\n",
       "      <th>2007</th>\n",
       "      <th>2008</th>\n",
       "      <th>2009</th>\n",
       "      <th>2010</th>\n",
       "      <th>2011</th>\n",
       "      <th>2012</th>\n",
       "      <th>2013</th>\n",
       "    </tr>\n",
       "  </thead>\n",
       "  <tbody>\n",
       "    <tr>\n",
       "      <th>0</th>\n",
       "      <td>Abkhazia</td>\n",
       "      <td>NaN</td>\n",
       "      <td>NaN</td>\n",
       "      <td>NaN</td>\n",
       "      <td>NaN</td>\n",
       "      <td>NaN</td>\n",
       "      <td>NaN</td>\n",
       "      <td>NaN</td>\n",
       "      <td>NaN</td>\n",
       "      <td>NaN</td>\n",
       "      <td>NaN</td>\n",
       "      <td>NaN</td>\n",
       "      <td>NaN</td>\n",
       "      <td>NaN</td>\n",
       "      <td>NaN</td>\n",
       "      <td>NaN</td>\n",
       "      <td>NaN</td>\n",
       "      <td>NaN</td>\n",
       "      <td>NaN</td>\n",
       "      <td>NaN</td>\n",
       "      <td>NaN</td>\n",
       "      <td>NaN</td>\n",
       "      <td>NaN</td>\n",
       "      <td>NaN</td>\n",
       "      <td>NaN</td>\n",
       "      <td>...</td>\n",
       "      <td>NaN</td>\n",
       "      <td>NaN</td>\n",
       "      <td>NaN</td>\n",
       "      <td>NaN</td>\n",
       "      <td>NaN</td>\n",
       "      <td>NaN</td>\n",
       "      <td>NaN</td>\n",
       "      <td>NaN</td>\n",
       "      <td>NaN</td>\n",
       "      <td>NaN</td>\n",
       "      <td>NaN</td>\n",
       "      <td>NaN</td>\n",
       "      <td>NaN</td>\n",
       "      <td>NaN</td>\n",
       "      <td>NaN</td>\n",
       "      <td>NaN</td>\n",
       "      <td>NaN</td>\n",
       "      <td>NaN</td>\n",
       "      <td>NaN</td>\n",
       "      <td>NaN</td>\n",
       "      <td>NaN</td>\n",
       "      <td>NaN</td>\n",
       "      <td>NaN</td>\n",
       "      <td>NaN</td>\n",
       "      <td>NaN</td>\n",
       "    </tr>\n",
       "    <tr>\n",
       "      <th>1</th>\n",
       "      <td>Afghanistan</td>\n",
       "      <td>634.400014</td>\n",
       "      <td>634.400014</td>\n",
       "      <td>634.400014</td>\n",
       "      <td>634.400014</td>\n",
       "      <td>634.400014</td>\n",
       "      <td>634.400014</td>\n",
       "      <td>634.400014</td>\n",
       "      <td>634.400014</td>\n",
       "      <td>634.400014</td>\n",
       "      <td>634.400014</td>\n",
       "      <td>634.400014</td>\n",
       "      <td>634.400014</td>\n",
       "      <td>634.400014</td>\n",
       "      <td>634.400014</td>\n",
       "      <td>634.400014</td>\n",
       "      <td>634.400014</td>\n",
       "      <td>634.400014</td>\n",
       "      <td>634.400014</td>\n",
       "      <td>634.400014</td>\n",
       "      <td>634.400014</td>\n",
       "      <td>634.400014</td>\n",
       "      <td>636.462357</td>\n",
       "      <td>638.531404</td>\n",
       "      <td>640.607178</td>\n",
       "      <td>...</td>\n",
       "      <td>1009.873573</td>\n",
       "      <td>953.514687</td>\n",
       "      <td>948.059541</td>\n",
       "      <td>872.659964</td>\n",
       "      <td>751.051532</td>\n",
       "      <td>672.561768</td>\n",
       "      <td>808.868078</td>\n",
       "      <td>830.41968</td>\n",
       "      <td>853.845088</td>\n",
       "      <td>877.975766</td>\n",
       "      <td>901.750125</td>\n",
       "      <td>892.238773</td>\n",
       "      <td>799.681786</td>\n",
       "      <td>976.669159</td>\n",
       "      <td>1055.14511</td>\n",
       "      <td>1081.472262</td>\n",
       "      <td>1174.582145</td>\n",
       "      <td>1193.282161</td>\n",
       "      <td>1321.945588</td>\n",
       "      <td>1323.495832</td>\n",
       "      <td>1552.033398</td>\n",
       "      <td>1632.338112</td>\n",
       "      <td>1695.153436</td>\n",
       "      <td>1885.356711</td>\n",
       "      <td>1906.651322</td>\n",
       "    </tr>\n",
       "  </tbody>\n",
       "</table>\n",
       "<p>2 rows × 215 columns</p>\n",
       "</div>"
      ],
      "text/plain": [
       "  GDP per capita        1800        1801        1802        1803        1804  \\\n",
       "0       Abkhazia         NaN         NaN         NaN         NaN         NaN   \n",
       "1    Afghanistan  634.400014  634.400014  634.400014  634.400014  634.400014   \n",
       "\n",
       "         1805        1806        1807        1808        1809        1810  \\\n",
       "0         NaN         NaN         NaN         NaN         NaN         NaN   \n",
       "1  634.400014  634.400014  634.400014  634.400014  634.400014  634.400014   \n",
       "\n",
       "         1811        1812        1813        1814        1815        1816  \\\n",
       "0         NaN         NaN         NaN         NaN         NaN         NaN   \n",
       "1  634.400014  634.400014  634.400014  634.400014  634.400014  634.400014   \n",
       "\n",
       "         1817        1818        1819        1820        1821        1822  \\\n",
       "0         NaN         NaN         NaN         NaN         NaN         NaN   \n",
       "1  634.400014  634.400014  634.400014  634.400014  636.462357  638.531404   \n",
       "\n",
       "         1823     ...              1989        1990        1991        1992  \\\n",
       "0         NaN     ...               NaN         NaN         NaN         NaN   \n",
       "1  640.607178     ...       1009.873573  953.514687  948.059541  872.659964   \n",
       "\n",
       "         1993        1994        1995       1996        1997        1998  \\\n",
       "0         NaN         NaN         NaN        NaN         NaN         NaN   \n",
       "1  751.051532  672.561768  808.868078  830.41968  853.845088  877.975766   \n",
       "\n",
       "         1999        2000        2001        2002        2003         2004  \\\n",
       "0         NaN         NaN         NaN         NaN         NaN          NaN   \n",
       "1  901.750125  892.238773  799.681786  976.669159  1055.14511  1081.472262   \n",
       "\n",
       "          2005         2006         2007         2008         2009  \\\n",
       "0          NaN          NaN          NaN          NaN          NaN   \n",
       "1  1174.582145  1193.282161  1321.945588  1323.495832  1552.033398   \n",
       "\n",
       "          2010         2011         2012         2013  \n",
       "0          NaN          NaN          NaN          NaN  \n",
       "1  1632.338112  1695.153436  1885.356711  1906.651322  \n",
       "\n",
       "[2 rows x 215 columns]"
      ]
     },
     "execution_count": 251,
     "metadata": {},
     "output_type": "execute_result"
    }
   ],
   "source": [
    "income = copy.deepcopy(raw_income)\n",
    "income.head(2)"
   ]
  },
  {
   "cell_type": "markdown",
   "metadata": {},
   "source": [
    "Transform the data set to have years as the rows and countries as the columns. Show the head of this data set when it is loaded. "
   ]
  },
  {
   "cell_type": "code",
   "execution_count": 252,
   "metadata": {
    "collapsed": false
   },
   "outputs": [
    {
     "data": {
      "text/html": [
       "<div>\n",
       "<table border=\"1\" class=\"dataframe\">\n",
       "  <thead>\n",
       "    <tr style=\"text-align: right;\">\n",
       "      <th></th>\n",
       "      <th>Abkhazia</th>\n",
       "      <th>Afghanistan</th>\n",
       "      <th>Akrotiri and Dhekelia</th>\n",
       "      <th>Albania</th>\n",
       "      <th>Algeria</th>\n",
       "      <th>American Samoa</th>\n",
       "      <th>Andorra</th>\n",
       "      <th>Angola</th>\n",
       "      <th>Anguilla</th>\n",
       "      <th>Antigua and Barbuda</th>\n",
       "      <th>Argentina</th>\n",
       "      <th>Armenia</th>\n",
       "      <th>Aruba</th>\n",
       "      <th>Australia</th>\n",
       "      <th>Austria</th>\n",
       "      <th>Azerbaijan</th>\n",
       "      <th>Bahamas</th>\n",
       "      <th>Bahrain</th>\n",
       "      <th>Bangladesh</th>\n",
       "      <th>Barbados</th>\n",
       "      <th>Belarus</th>\n",
       "      <th>Belgium</th>\n",
       "      <th>Belize</th>\n",
       "      <th>Benin</th>\n",
       "      <th>Bermuda</th>\n",
       "      <th>...</th>\n",
       "      <th>Tuvalu</th>\n",
       "      <th>Uganda</th>\n",
       "      <th>Ukraine</th>\n",
       "      <th>United Arab Emirates</th>\n",
       "      <th>United Kingdom</th>\n",
       "      <th>United States</th>\n",
       "      <th>Uruguay</th>\n",
       "      <th>USSR</th>\n",
       "      <th>Uzbekistan</th>\n",
       "      <th>Wallis et Futuna</th>\n",
       "      <th>Vanuatu</th>\n",
       "      <th>Venezuela</th>\n",
       "      <th>West Bank and Gaza</th>\n",
       "      <th>West Germany</th>\n",
       "      <th>Western Sahara</th>\n",
       "      <th>Vietnam</th>\n",
       "      <th>Virgin Islands (U.S.)</th>\n",
       "      <th>Yemen Arab Republic (Former)</th>\n",
       "      <th>Yemen Democratic (Former)</th>\n",
       "      <th>Yemen, Rep.</th>\n",
       "      <th>Yugoslavia</th>\n",
       "      <th>Zambia</th>\n",
       "      <th>Zimbabwe</th>\n",
       "      <th>Åland</th>\n",
       "      <th>year</th>\n",
       "    </tr>\n",
       "  </thead>\n",
       "  <tbody>\n",
       "    <tr>\n",
       "      <th>1800</th>\n",
       "      <td>NaN</td>\n",
       "      <td>634.400014</td>\n",
       "      <td>NaN</td>\n",
       "      <td>860.587966</td>\n",
       "      <td>1360.000000</td>\n",
       "      <td>NaN</td>\n",
       "      <td>1260.00</td>\n",
       "      <td>650.000027</td>\n",
       "      <td>NaN</td>\n",
       "      <td>796.593372</td>\n",
       "      <td>948.545561</td>\n",
       "      <td>540.718052</td>\n",
       "      <td>876.545136</td>\n",
       "      <td>794.369926</td>\n",
       "      <td>1732.182633</td>\n",
       "      <td>815.479659</td>\n",
       "      <td>1521.10879</td>\n",
       "      <td>1300</td>\n",
       "      <td>922.474073</td>\n",
       "      <td>961.539449</td>\n",
       "      <td>639.818101</td>\n",
       "      <td>1934.724653</td>\n",
       "      <td>609.167087</td>\n",
       "      <td>628.032805</td>\n",
       "      <td>1291.886608</td>\n",
       "      <td>...</td>\n",
       "      <td>756.334301</td>\n",
       "      <td>488.187709</td>\n",
       "      <td>803.054735</td>\n",
       "      <td>1050.000000</td>\n",
       "      <td>3044.331429</td>\n",
       "      <td>2093.599399</td>\n",
       "      <td>1086.332803</td>\n",
       "      <td>NaN</td>\n",
       "      <td>528.697956</td>\n",
       "      <td>NaN</td>\n",
       "      <td>616.232692</td>\n",
       "      <td>666.894069</td>\n",
       "      <td>871.394799</td>\n",
       "      <td>NaN</td>\n",
       "      <td>NaN</td>\n",
       "      <td>732.126075</td>\n",
       "      <td>NaN</td>\n",
       "      <td>NaN</td>\n",
       "      <td>NaN</td>\n",
       "      <td>923.000000</td>\n",
       "      <td>NaN</td>\n",
       "      <td>698.213614</td>\n",
       "      <td>914.519610</td>\n",
       "      <td>NaN</td>\n",
       "      <td>1800</td>\n",
       "    </tr>\n",
       "    <tr>\n",
       "      <th>1801</th>\n",
       "      <td>NaN</td>\n",
       "      <td>634.400014</td>\n",
       "      <td>NaN</td>\n",
       "      <td>861.481754</td>\n",
       "      <td>1361.635788</td>\n",
       "      <td>NaN</td>\n",
       "      <td>1262.15</td>\n",
       "      <td>653.539850</td>\n",
       "      <td>NaN</td>\n",
       "      <td>796.593372</td>\n",
       "      <td>948.545561</td>\n",
       "      <td>540.718052</td>\n",
       "      <td>876.545136</td>\n",
       "      <td>796.082587</td>\n",
       "      <td>1738.902873</td>\n",
       "      <td>815.563006</td>\n",
       "      <td>1521.10879</td>\n",
       "      <td>1306</td>\n",
       "      <td>922.234127</td>\n",
       "      <td>961.539449</td>\n",
       "      <td>640.067871</td>\n",
       "      <td>1935.482079</td>\n",
       "      <td>609.167087</td>\n",
       "      <td>628.032805</td>\n",
       "      <td>1291.886608</td>\n",
       "      <td>...</td>\n",
       "      <td>756.334301</td>\n",
       "      <td>488.187709</td>\n",
       "      <td>803.891955</td>\n",
       "      <td>1054.285714</td>\n",
       "      <td>3051.020246</td>\n",
       "      <td>2132.369758</td>\n",
       "      <td>1086.332803</td>\n",
       "      <td>NaN</td>\n",
       "      <td>528.697956</td>\n",
       "      <td>NaN</td>\n",
       "      <td>616.232692</td>\n",
       "      <td>666.894069</td>\n",
       "      <td>871.394799</td>\n",
       "      <td>NaN</td>\n",
       "      <td>NaN</td>\n",
       "      <td>732.126075</td>\n",
       "      <td>NaN</td>\n",
       "      <td>NaN</td>\n",
       "      <td>NaN</td>\n",
       "      <td>926.047067</td>\n",
       "      <td>NaN</td>\n",
       "      <td>700.018066</td>\n",
       "      <td>915.557336</td>\n",
       "      <td>NaN</td>\n",
       "      <td>1801</td>\n",
       "    </tr>\n",
       "    <tr>\n",
       "      <th>1802</th>\n",
       "      <td>NaN</td>\n",
       "      <td>634.400014</td>\n",
       "      <td>NaN</td>\n",
       "      <td>862.376469</td>\n",
       "      <td>1363.271576</td>\n",
       "      <td>NaN</td>\n",
       "      <td>1264.30</td>\n",
       "      <td>657.079673</td>\n",
       "      <td>NaN</td>\n",
       "      <td>796.593372</td>\n",
       "      <td>948.545561</td>\n",
       "      <td>540.718052</td>\n",
       "      <td>876.545136</td>\n",
       "      <td>797.798940</td>\n",
       "      <td>1745.649184</td>\n",
       "      <td>815.646361</td>\n",
       "      <td>1521.10879</td>\n",
       "      <td>1312</td>\n",
       "      <td>921.994244</td>\n",
       "      <td>961.539449</td>\n",
       "      <td>640.317738</td>\n",
       "      <td>1936.239802</td>\n",
       "      <td>609.167087</td>\n",
       "      <td>628.032805</td>\n",
       "      <td>1291.886608</td>\n",
       "      <td>...</td>\n",
       "      <td>756.334301</td>\n",
       "      <td>488.187709</td>\n",
       "      <td>804.730049</td>\n",
       "      <td>1058.571429</td>\n",
       "      <td>3060.480375</td>\n",
       "      <td>2166.293823</td>\n",
       "      <td>1086.332803</td>\n",
       "      <td>NaN</td>\n",
       "      <td>528.697956</td>\n",
       "      <td>NaN</td>\n",
       "      <td>616.232692</td>\n",
       "      <td>666.894069</td>\n",
       "      <td>871.394799</td>\n",
       "      <td>NaN</td>\n",
       "      <td>NaN</td>\n",
       "      <td>732.126075</td>\n",
       "      <td>NaN</td>\n",
       "      <td>NaN</td>\n",
       "      <td>NaN</td>\n",
       "      <td>929.094134</td>\n",
       "      <td>NaN</td>\n",
       "      <td>701.822518</td>\n",
       "      <td>916.595062</td>\n",
       "      <td>NaN</td>\n",
       "      <td>1802</td>\n",
       "    </tr>\n",
       "    <tr>\n",
       "      <th>1803</th>\n",
       "      <td>NaN</td>\n",
       "      <td>634.400014</td>\n",
       "      <td>NaN</td>\n",
       "      <td>863.272114</td>\n",
       "      <td>1364.907363</td>\n",
       "      <td>NaN</td>\n",
       "      <td>1266.45</td>\n",
       "      <td>660.619496</td>\n",
       "      <td>NaN</td>\n",
       "      <td>796.593372</td>\n",
       "      <td>948.545561</td>\n",
       "      <td>540.718052</td>\n",
       "      <td>876.545136</td>\n",
       "      <td>799.518993</td>\n",
       "      <td>1752.421669</td>\n",
       "      <td>815.729724</td>\n",
       "      <td>1521.10879</td>\n",
       "      <td>1318</td>\n",
       "      <td>921.754423</td>\n",
       "      <td>961.539449</td>\n",
       "      <td>640.567703</td>\n",
       "      <td>1936.997822</td>\n",
       "      <td>609.167087</td>\n",
       "      <td>628.032805</td>\n",
       "      <td>1291.886608</td>\n",
       "      <td>...</td>\n",
       "      <td>756.334301</td>\n",
       "      <td>488.187709</td>\n",
       "      <td>805.569016</td>\n",
       "      <td>1062.857143</td>\n",
       "      <td>2961.609051</td>\n",
       "      <td>2130.754327</td>\n",
       "      <td>1086.332803</td>\n",
       "      <td>NaN</td>\n",
       "      <td>528.697956</td>\n",
       "      <td>NaN</td>\n",
       "      <td>616.232692</td>\n",
       "      <td>666.894069</td>\n",
       "      <td>871.394799</td>\n",
       "      <td>NaN</td>\n",
       "      <td>NaN</td>\n",
       "      <td>732.126075</td>\n",
       "      <td>NaN</td>\n",
       "      <td>NaN</td>\n",
       "      <td>NaN</td>\n",
       "      <td>932.141201</td>\n",
       "      <td>NaN</td>\n",
       "      <td>703.626970</td>\n",
       "      <td>917.632788</td>\n",
       "      <td>NaN</td>\n",
       "      <td>1803</td>\n",
       "    </tr>\n",
       "    <tr>\n",
       "      <th>1804</th>\n",
       "      <td>NaN</td>\n",
       "      <td>634.400014</td>\n",
       "      <td>NaN</td>\n",
       "      <td>864.168689</td>\n",
       "      <td>1366.543151</td>\n",
       "      <td>NaN</td>\n",
       "      <td>1268.60</td>\n",
       "      <td>664.159319</td>\n",
       "      <td>NaN</td>\n",
       "      <td>796.593372</td>\n",
       "      <td>948.545561</td>\n",
       "      <td>540.718052</td>\n",
       "      <td>876.545136</td>\n",
       "      <td>801.242755</td>\n",
       "      <td>1759.220428</td>\n",
       "      <td>815.813096</td>\n",
       "      <td>1521.10879</td>\n",
       "      <td>1324</td>\n",
       "      <td>921.514664</td>\n",
       "      <td>961.539449</td>\n",
       "      <td>640.817765</td>\n",
       "      <td>1937.756138</td>\n",
       "      <td>609.167087</td>\n",
       "      <td>628.032805</td>\n",
       "      <td>1291.886608</td>\n",
       "      <td>...</td>\n",
       "      <td>756.334301</td>\n",
       "      <td>488.187709</td>\n",
       "      <td>806.408858</td>\n",
       "      <td>1067.142857</td>\n",
       "      <td>2918.115064</td>\n",
       "      <td>2129.138895</td>\n",
       "      <td>1086.332803</td>\n",
       "      <td>NaN</td>\n",
       "      <td>528.697956</td>\n",
       "      <td>NaN</td>\n",
       "      <td>616.232692</td>\n",
       "      <td>666.894069</td>\n",
       "      <td>871.394799</td>\n",
       "      <td>NaN</td>\n",
       "      <td>NaN</td>\n",
       "      <td>732.126075</td>\n",
       "      <td>NaN</td>\n",
       "      <td>NaN</td>\n",
       "      <td>NaN</td>\n",
       "      <td>935.188268</td>\n",
       "      <td>NaN</td>\n",
       "      <td>705.431423</td>\n",
       "      <td>918.670514</td>\n",
       "      <td>NaN</td>\n",
       "      <td>1804</td>\n",
       "    </tr>\n",
       "  </tbody>\n",
       "</table>\n",
       "<p>5 rows × 261 columns</p>\n",
       "</div>"
      ],
      "text/plain": [
       "      Abkhazia  Afghanistan  Akrotiri and Dhekelia     Albania      Algeria  \\\n",
       "1800       NaN   634.400014                    NaN  860.587966  1360.000000   \n",
       "1801       NaN   634.400014                    NaN  861.481754  1361.635788   \n",
       "1802       NaN   634.400014                    NaN  862.376469  1363.271576   \n",
       "1803       NaN   634.400014                    NaN  863.272114  1364.907363   \n",
       "1804       NaN   634.400014                    NaN  864.168689  1366.543151   \n",
       "\n",
       "      American Samoa  Andorra      Angola  Anguilla  Antigua and Barbuda  \\\n",
       "1800             NaN  1260.00  650.000027       NaN           796.593372   \n",
       "1801             NaN  1262.15  653.539850       NaN           796.593372   \n",
       "1802             NaN  1264.30  657.079673       NaN           796.593372   \n",
       "1803             NaN  1266.45  660.619496       NaN           796.593372   \n",
       "1804             NaN  1268.60  664.159319       NaN           796.593372   \n",
       "\n",
       "       Argentina     Armenia       Aruba   Australia      Austria  Azerbaijan  \\\n",
       "1800  948.545561  540.718052  876.545136  794.369926  1732.182633  815.479659   \n",
       "1801  948.545561  540.718052  876.545136  796.082587  1738.902873  815.563006   \n",
       "1802  948.545561  540.718052  876.545136  797.798940  1745.649184  815.646361   \n",
       "1803  948.545561  540.718052  876.545136  799.518993  1752.421669  815.729724   \n",
       "1804  948.545561  540.718052  876.545136  801.242755  1759.220428  815.813096   \n",
       "\n",
       "         Bahamas  Bahrain  Bangladesh    Barbados     Belarus      Belgium  \\\n",
       "1800  1521.10879     1300  922.474073  961.539449  639.818101  1934.724653   \n",
       "1801  1521.10879     1306  922.234127  961.539449  640.067871  1935.482079   \n",
       "1802  1521.10879     1312  921.994244  961.539449  640.317738  1936.239802   \n",
       "1803  1521.10879     1318  921.754423  961.539449  640.567703  1936.997822   \n",
       "1804  1521.10879     1324  921.514664  961.539449  640.817765  1937.756138   \n",
       "\n",
       "          Belize       Benin      Bermuda  ...       Tuvalu      Uganda  \\\n",
       "1800  609.167087  628.032805  1291.886608  ...   756.334301  488.187709   \n",
       "1801  609.167087  628.032805  1291.886608  ...   756.334301  488.187709   \n",
       "1802  609.167087  628.032805  1291.886608  ...   756.334301  488.187709   \n",
       "1803  609.167087  628.032805  1291.886608  ...   756.334301  488.187709   \n",
       "1804  609.167087  628.032805  1291.886608  ...   756.334301  488.187709   \n",
       "\n",
       "         Ukraine  United Arab Emirates  United Kingdom  United States  \\\n",
       "1800  803.054735           1050.000000     3044.331429    2093.599399   \n",
       "1801  803.891955           1054.285714     3051.020246    2132.369758   \n",
       "1802  804.730049           1058.571429     3060.480375    2166.293823   \n",
       "1803  805.569016           1062.857143     2961.609051    2130.754327   \n",
       "1804  806.408858           1067.142857     2918.115064    2129.138895   \n",
       "\n",
       "          Uruguay  USSR  Uzbekistan  Wallis et Futuna     Vanuatu   Venezuela  \\\n",
       "1800  1086.332803   NaN  528.697956               NaN  616.232692  666.894069   \n",
       "1801  1086.332803   NaN  528.697956               NaN  616.232692  666.894069   \n",
       "1802  1086.332803   NaN  528.697956               NaN  616.232692  666.894069   \n",
       "1803  1086.332803   NaN  528.697956               NaN  616.232692  666.894069   \n",
       "1804  1086.332803   NaN  528.697956               NaN  616.232692  666.894069   \n",
       "\n",
       "      West Bank and Gaza  West Germany  Western Sahara     Vietnam  \\\n",
       "1800          871.394799           NaN             NaN  732.126075   \n",
       "1801          871.394799           NaN             NaN  732.126075   \n",
       "1802          871.394799           NaN             NaN  732.126075   \n",
       "1803          871.394799           NaN             NaN  732.126075   \n",
       "1804          871.394799           NaN             NaN  732.126075   \n",
       "\n",
       "      Virgin Islands (U.S.)  Yemen Arab Republic (Former)  \\\n",
       "1800                    NaN                           NaN   \n",
       "1801                    NaN                           NaN   \n",
       "1802                    NaN                           NaN   \n",
       "1803                    NaN                           NaN   \n",
       "1804                    NaN                           NaN   \n",
       "\n",
       "      Yemen Democratic (Former)  Yemen, Rep.  Yugoslavia      Zambia  \\\n",
       "1800                        NaN   923.000000         NaN  698.213614   \n",
       "1801                        NaN   926.047067         NaN  700.018066   \n",
       "1802                        NaN   929.094134         NaN  701.822518   \n",
       "1803                        NaN   932.141201         NaN  703.626970   \n",
       "1804                        NaN   935.188268         NaN  705.431423   \n",
       "\n",
       "        Zimbabwe  Åland  year  \n",
       "1800  914.519610    NaN  1800  \n",
       "1801  915.557336    NaN  1801  \n",
       "1802  916.595062    NaN  1802  \n",
       "1803  917.632788    NaN  1803  \n",
       "1804  918.670514    NaN  1804  \n",
       "\n",
       "[5 rows x 261 columns]"
      ]
     },
     "execution_count": 252,
     "metadata": {},
     "output_type": "execute_result"
    }
   ],
   "source": [
    "#your code here\n",
    "income.index = list(income['GDP per capita'])\n",
    "income.drop(labels='GDP per capita', axis=1, inplace=True)\n",
    "income = income.T\n",
    "income['year'] = income.index\n",
    "income.head(5)"
   ]
  },
  {
   "cell_type": "markdown",
   "metadata": {},
   "source": [
    "#### Problem 2(b)\n",
    "\n",
    "Graphically display the distribution of income per person across all countries in the world for any given year (e.g. 2000).  What kind of plot would be best? "
   ]
  },
  {
   "cell_type": "code",
   "execution_count": 263,
   "metadata": {
    "collapsed": false
   },
   "outputs": [
    {
     "data": {
      "text/plain": [
       "<matplotlib.text.Text at 0x10be32490>"
      ]
     },
     "execution_count": 263,
     "metadata": {},
     "output_type": "execute_result"
    },
    {
     "data": {
      "image/png": "[encoded data removed]",
      "text/plain": [
       "<matplotlib.figure.Figure at 0x10f26f190>"
      ]
     },
     "metadata": {},
     "output_type": "display_data"
    }
   ],
   "source": [
    "#your code here\n",
    "year = 1800\n",
    "\n",
    "fig = plt.figure(figsize=(10, 5))\n",
    "ax = fig.add_subplot(111)\n",
    "ax.hist(income.ix[year].dropna(), bins=20)\n",
    "ax.set_xlabel('income')\n",
    "ax.set_ylabel('frequency')\n",
    "ax.set_title('income and frequency for year {}'.format(year))"
   ]
  },
  {
   "cell_type": "markdown",
   "metadata": {},
   "source": [
    "#### Problem 2(c)\n",
    "\n",
    "Write a function to merge the `countries` and `income` data sets for any given year. "
   ]
  },
  {
   "cell_type": "code",
   "execution_count": 291,
   "metadata": {
    "collapsed": false
   },
   "outputs": [],
   "source": [
    "\"\"\"\n",
    "Function\n",
    "--------\n",
    "mergeByYear\n",
    "\n",
    "Return a merged DataFrame containing the income, \n",
    "country name and region for a given year. \n",
    "\n",
    "Parameters\n",
    "----------\n",
    "year : int\n",
    "    The year of interest\n",
    "\n",
    "Returns\n",
    "-------\n",
    "a DataFrame\n",
    "   A pandas DataFrame with three columns titled \n",
    "   'Country', 'Region', and 'Income'. \n",
    "\n",
    "Example\n",
    "-------\n",
    ">>> mergeByYear(2010)\n",
    "\"\"\"\n",
    "#your code here\n",
    "\n",
    "total_merged = pd.merge(countries, raw_income, how='inner', left_on='Country', right_on='GDP per capita')    \n",
    "\n",
    "def mergeByYear(year):\n",
    "    global total_merged\n",
    "    result = total_merged.loc[:, ['Country', 'Region', year]]  \n",
    "    # equals to total_merged[['Country', 'Region', year]]\n",
    "    # but will raise a warning if use total_merged[['Country', 'Region', year]]\n",
    "    result[year] = np.round(result[year], 2)\n",
    "    return result"
   ]
  },
  {
   "cell_type": "code",
   "execution_count": 293,
   "metadata": {
    "collapsed": false
   },
   "outputs": [
    {
     "data": {
      "text/html": [
       "<div>\n",
       "<table border=\"1\" class=\"dataframe\">\n",
       "  <thead>\n",
       "    <tr style=\"text-align: right;\">\n",
       "      <th></th>\n",
       "      <th>Country</th>\n",
       "      <th>Region</th>\n",
       "      <th>1990</th>\n",
       "    </tr>\n",
       "  </thead>\n",
       "  <tbody>\n",
       "    <tr>\n",
       "      <th>0</th>\n",
       "      <td>Algeria</td>\n",
       "      <td>AFRICA</td>\n",
       "      <td>10112.80</td>\n",
       "    </tr>\n",
       "    <tr>\n",
       "      <th>1</th>\n",
       "      <td>Angola</td>\n",
       "      <td>AFRICA</td>\n",
       "      <td>3968.67</td>\n",
       "    </tr>\n",
       "    <tr>\n",
       "      <th>2</th>\n",
       "      <td>Benin</td>\n",
       "      <td>AFRICA</td>\n",
       "      <td>1321.89</td>\n",
       "    </tr>\n",
       "    <tr>\n",
       "      <th>3</th>\n",
       "      <td>Botswana</td>\n",
       "      <td>AFRICA</td>\n",
       "      <td>8035.85</td>\n",
       "    </tr>\n",
       "    <tr>\n",
       "      <th>4</th>\n",
       "      <td>Burundi</td>\n",
       "      <td>AFRICA</td>\n",
       "      <td>967.34</td>\n",
       "    </tr>\n",
       "  </tbody>\n",
       "</table>\n",
       "</div>"
      ],
      "text/plain": [
       "    Country  Region      1990\n",
       "0   Algeria  AFRICA  10112.80\n",
       "1    Angola  AFRICA   3968.67\n",
       "2     Benin  AFRICA   1321.89\n",
       "3  Botswana  AFRICA   8035.85\n",
       "4   Burundi  AFRICA    967.34"
      ]
     },
     "execution_count": 293,
     "metadata": {},
     "output_type": "execute_result"
    }
   ],
   "source": [
    "mergeByYear(1990).head(5)"
   ]
  },
  {
   "cell_type": "markdown",
   "metadata": {},
   "source": [
    "#### Problem 2(d) \n",
    "\n",
    "Use exploratory data analysis tools such as histograms and boxplots to explore the distribution of the income per person by region data set from 2(c) for a given year. Describe how these change through the recent years?\n",
    "\n",
    "**Hint**: Use a `for` loop to consider multiple years.  "
   ]
  },
  {
   "cell_type": "code",
   "execution_count": 11,
   "metadata": {
    "collapsed": false
   },
   "outputs": [],
   "source": [
    "#your code here"
   ]
  },
  {
   "cell_type": "markdown",
   "metadata": {},
   "source": [
    "## Discussion for Problem 2\n",
    "\n",
    "*Write a brief discussion of your conclusions to the questions and tasks above in 100 words or less.*\n",
    "\n",
    "---\n"
   ]
  },
  {
   "cell_type": "markdown",
   "metadata": {},
   "source": [
    "## Problem 3\n",
    "\n",
    "In general, if group A has larger values than group B on average, does this mean the largest values are from group A? Discuss after completing each of the problems below. "
   ]
  },
  {
   "cell_type": "markdown",
   "metadata": {},
   "source": [
    "#### Problem 3(a)\n",
    "\n",
    "Assume you have two list of numbers, X and Y, with distribution approximately normal. X and Y have standard deviation equal to 1, but the average of X is different from the average of Y.  If the difference in the average of X and the average of Y is larger than 0, how does the proportion of X > a compare to the proportion of Y > a? "
   ]
  },
  {
   "cell_type": "markdown",
   "metadata": {},
   "source": [
    "Write a function that analytically calculates the ratio of these two proportions: Pr(X > a)/Pr(Y > a) as function of the difference in the average of X and the average of Y. \n",
    "\n",
    "**Hint**: Use the `scipy.stats` module for useful functions related to a normal random variable such as the probability density function, cumulative distribution function and survival function. \n",
    "\n",
    "**Update**: Assume Y is normally distributed with mean equal to 0. "
   ]
  },
  {
   "cell_type": "markdown",
   "metadata": {},
   "source": [
    "Show the curve for different values of a (a = 2,3,4 and 5)."
   ]
  },
  {
   "cell_type": "code",
   "execution_count": null,
   "metadata": {
    "collapsed": false
   },
   "outputs": [],
   "source": [
    "\"\"\"\n",
    "Function\n",
    "--------\n",
    "ratioNormals\n",
    "\n",
    "Return ratio of these two proportions: \n",
    "    Pr(X > a)/Pr(Y > a) as function of \n",
    "    the difference in the average of X \n",
    "    and the average of Y. \n",
    "\n",
    "Parameters\n",
    "----------\n",
    "diff : difference in the average of X \n",
    "    and the average of Y. \n",
    "a : cutoff value\n",
    "\n",
    "Returns\n",
    "-------\n",
    "Returns ratio of these two proportions: \n",
    "    Pr(X > a)/Pr(Y > a)\n",
    "    \n",
    "Example\n",
    "-------\n",
    ">>> ratioNormals(diff = 1, a = 2)\n",
    "\"\"\"\n",
    "#your code here"
   ]
  },
  {
   "cell_type": "code",
   "execution_count": 13,
   "metadata": {
    "collapsed": false
   },
   "outputs": [],
   "source": [
    "#your code here"
   ]
  },
  {
   "cell_type": "markdown",
   "metadata": {},
   "source": [
    "#### Problem 3(b)\n",
    "\n",
    "Now consider the distribution of income per person from two regions: Asia and South America. Estimate the average income per person across the countries in those two regions. Which region has the larger average of income per person across the countries in that region? \n",
    "\n",
    "**Update**: Use the year 2012. "
   ]
  },
  {
   "cell_type": "code",
   "execution_count": 14,
   "metadata": {
    "collapsed": false
   },
   "outputs": [],
   "source": [
    "#your code here"
   ]
  },
  {
   "cell_type": "markdown",
   "metadata": {},
   "source": [
    "#### Problem 3(c) \n",
    "\n",
    "Calculate the proportion of countries with income per person that is greater than 10,000 dollars. Which region has a larger proportion of countries with income per person greater than 10,000 dollars? If the answer here is different from the answer in 3(b), explain why in light of your answer to 3(a).\n",
    "\n",
    "**Update**: Use the year 2012. "
   ]
  },
  {
   "cell_type": "code",
   "execution_count": 15,
   "metadata": {
    "collapsed": false
   },
   "outputs": [],
   "source": [
    "#your code here"
   ]
  },
  {
   "cell_type": "markdown",
   "metadata": {},
   "source": [
    "#### Problem 3(d)\n",
    "\n",
    "**For AC209 Students**: Re-run this analysis in Problem 3 but compute the average income per person for each region, instead of the average of the reported incomes per person across countries in the region. Why are these two different? Hint: use this [data set](https://spreadsheets.google.com/pub?key=phAwcNAVuyj0XOoBL_n5tAQ&gid=0). "
   ]
  },
  {
   "cell_type": "code",
   "execution_count": 16,
   "metadata": {
    "collapsed": false
   },
   "outputs": [],
   "source": [
    "#your code here"
   ]
  },
  {
   "cell_type": "markdown",
   "metadata": {},
   "source": [
    "## Discussion for Problem 3\n",
    "\n",
    "*Write a brief discussion of your conclusions to the questions and tasks above in 100 words or less.*\n",
    "\n",
    "---\n"
   ]
  }
 ],
 "metadata": {
  "kernelspec": {
   "display_name": "Python 2",
   "language": "python",
   "name": "python2"
  },
  "language_info": {
   "codemirror_mode": {
    "name": "ipython",
    "version": 2
   },
   "file_extension": ".py",
   "mimetype": "text/x-python",
   "name": "python",
   "nbconvert_exporter": "python",
   "pygments_lexer": "ipython2",
   "version": "2.7.6"
  }
 },
 "nbformat": 4,
 "nbformat_minor": 0
}
