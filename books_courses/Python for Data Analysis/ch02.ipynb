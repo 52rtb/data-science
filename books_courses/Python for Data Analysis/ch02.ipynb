{
 "cells": [
  {
   "cell_type": "markdown",
   "metadata": {},
   "source": [
    "# Introductory examples"
   ]
  },
  {
   "cell_type": "markdown",
   "metadata": {},
   "source": [
    "## 1.usa.gov data from bit.ly"
   ]
  },
  {
   "cell_type": "code",
   "execution_count": 6,
   "metadata": {
    "collapsed": false
   },
   "outputs": [],
   "source": [
    "### import used packages in this chapter\n",
    "\n",
    "# built-in package\n",
    "from __future__ import division\n",
    "import json\n",
    "import collections\n",
    "\n",
    "# third package\n",
    "import pandas as pd\n",
    "import numpy as np\n",
    "import matplotlib.pyplot as plt \n",
    "import seaborn\n",
    "import mpld3\n",
    "# user defined package\n",
    "\n",
    "# package related config\n",
    "%matplotlib inline"
   ]
  },
  {
   "cell_type": "code",
   "execution_count": 2,
   "metadata": {
    "collapsed": false
   },
   "outputs": [
    {
     "name": "stdout",
     "output_type": "stream",
     "text": [
      "/Users/chenshan/Desktop/github/data-science/books_courses/Python for Data Analysis\n",
      "\u001b[1m\u001b[36mch02\u001b[m\u001b[m       ch02.ipynb\n"
     ]
    }
   ],
   "source": [
    "!pwd\n",
    "!ls"
   ]
  },
  {
   "cell_type": "code",
   "execution_count": 3,
   "metadata": {
    "collapsed": false
   },
   "outputs": [],
   "source": [
    "filepath = 'ch02/usagov_bitly_data2012-03-16-1331923249.txt'"
   ]
  },
  {
   "cell_type": "code",
   "execution_count": 4,
   "metadata": {
    "collapsed": false
   },
   "outputs": [
    {
     "name": "stdout",
     "output_type": "stream",
     "text": [
      "{ \"a\": \"Mozilla\\/5.0 (Windows NT 6.1; WOW64) AppleWebKit\\/535.11 (KHTML, like Gecko) Chrome\\/17.0.963.78 Safari\\/535.11\", \"c\": \"US\", \"nk\": 1, \"tz\": \"America\\/New_York\", \"gr\": \"MA\", \"g\": \"A6qOVH\", \"h\": \"wfLQtf\", \"l\": \"orofrog\", \"al\": \"en-US,en;q=0.8\", \"hh\": \"1.usa.gov\", \"r\": \"http:\\/\\/www.facebook.com\\/l\\/7AQEFzjSi\\/1.usa.gov\\/wfLQtf\", \"u\": \"http:\\/\\/www.ncbi.nlm.nih.gov\\/pubmed\\/22415991\", \"t\": 1331923247, \"hc\": 1331822918, \"cy\": \"Danvers\", \"ll\": [ 42.576698, -70.954903 ] }\r\n",
      "{ \"a\": \"GoogleMaps\\/RochesterNY\", \"c\": \"US\", \"nk\": 0, \"tz\": \"America\\/Denver\", \"gr\": \"UT\", \"g\": \"mwszkS\", \"h\": \"mwszkS\", \"l\": \"bitly\", \"hh\": \"j.mp\", \"r\": \"http:\\/\\/www.AwareMap.com\\/\", \"u\": \"http:\\/\\/www.monroecounty.gov\\/etc\\/911\\/rss.php\", \"t\": 1331923249, \"hc\": 1308262393, \"cy\": \"Provo\", \"ll\": [ 40.218102, -111.613297 ] }\r\n"
     ]
    }
   ],
   "source": [
    "# explore the file content format\n",
    "!head -2 'ch02/usagov_bitly_data2012-03-16-1331923249.txt'"
   ]
  },
  {
   "cell_type": "code",
   "execution_count": 5,
   "metadata": {
    "collapsed": false
   },
   "outputs": [],
   "source": [
    "# load file content into a list\n",
    "records = [json.loads(line) for line in open(filepath)]"
   ]
  },
  {
   "cell_type": "code",
   "execution_count": 6,
   "metadata": {
    "collapsed": false
   },
   "outputs": [
    {
     "data": {
      "text/plain": [
       "{u'a': u'Mozilla/5.0 (Windows NT 6.1; WOW64) AppleWebKit/535.11 (KHTML, like Gecko) Chrome/17.0.963.78 Safari/535.11',\n",
       " u'al': u'en-US,en;q=0.8',\n",
       " u'c': u'US',\n",
       " u'cy': u'Danvers',\n",
       " u'g': u'A6qOVH',\n",
       " u'gr': u'MA',\n",
       " u'h': u'wfLQtf',\n",
       " u'hc': 1331822918,\n",
       " u'hh': u'1.usa.gov',\n",
       " u'l': u'orofrog',\n",
       " u'll': [42.576698, -70.954903],\n",
       " u'nk': 1,\n",
       " u'r': u'http://www.facebook.com/l/7AQEFzjSi/1.usa.gov/wfLQtf',\n",
       " u't': 1331923247,\n",
       " u'tz': u'America/New_York',\n",
       " u'u': u'http://www.ncbi.nlm.nih.gov/pubmed/22415991'}"
      ]
     },
     "execution_count": 6,
     "metadata": {},
     "output_type": "execute_result"
    }
   ],
   "source": [
    "records[0]"
   ]
  },
  {
   "cell_type": "markdown",
   "metadata": {},
   "source": [
    "### Counting time zones with pandas"
   ]
  },
  {
   "cell_type": "code",
   "execution_count": 7,
   "metadata": {
    "collapsed": false
   },
   "outputs": [
    {
     "data": {
      "text/html": [
       "<div>\n",
       "<table border=\"1\" class=\"dataframe\">\n",
       "  <thead>\n",
       "    <tr style=\"text-align: right;\">\n",
       "      <th></th>\n",
       "      <th>_heartbeat_</th>\n",
       "      <th>a</th>\n",
       "      <th>al</th>\n",
       "      <th>c</th>\n",
       "      <th>cy</th>\n",
       "      <th>g</th>\n",
       "      <th>gr</th>\n",
       "      <th>h</th>\n",
       "      <th>hc</th>\n",
       "      <th>hh</th>\n",
       "      <th>kw</th>\n",
       "      <th>l</th>\n",
       "      <th>ll</th>\n",
       "      <th>nk</th>\n",
       "      <th>r</th>\n",
       "      <th>t</th>\n",
       "      <th>tz</th>\n",
       "      <th>u</th>\n",
       "    </tr>\n",
       "  </thead>\n",
       "  <tbody>\n",
       "    <tr>\n",
       "      <th>0</th>\n",
       "      <td>NaN</td>\n",
       "      <td>Mozilla/5.0 (Windows NT 6.1; WOW64) AppleWebKi...</td>\n",
       "      <td>en-US,en;q=0.8</td>\n",
       "      <td>US</td>\n",
       "      <td>Danvers</td>\n",
       "      <td>A6qOVH</td>\n",
       "      <td>MA</td>\n",
       "      <td>wfLQtf</td>\n",
       "      <td>1331822918</td>\n",
       "      <td>1.usa.gov</td>\n",
       "      <td>NaN</td>\n",
       "      <td>orofrog</td>\n",
       "      <td>[42.576698, -70.954903]</td>\n",
       "      <td>1</td>\n",
       "      <td>http://www.facebook.com/l/7AQEFzjSi/1.usa.gov/...</td>\n",
       "      <td>1331923247</td>\n",
       "      <td>America/New_York</td>\n",
       "      <td>http://www.ncbi.nlm.nih.gov/pubmed/22415991</td>\n",
       "    </tr>\n",
       "    <tr>\n",
       "      <th>1</th>\n",
       "      <td>NaN</td>\n",
       "      <td>GoogleMaps/RochesterNY</td>\n",
       "      <td>NaN</td>\n",
       "      <td>US</td>\n",
       "      <td>Provo</td>\n",
       "      <td>mwszkS</td>\n",
       "      <td>UT</td>\n",
       "      <td>mwszkS</td>\n",
       "      <td>1308262393</td>\n",
       "      <td>j.mp</td>\n",
       "      <td>NaN</td>\n",
       "      <td>bitly</td>\n",
       "      <td>[40.218102, -111.613297]</td>\n",
       "      <td>0</td>\n",
       "      <td>http://www.AwareMap.com/</td>\n",
       "      <td>1331923249</td>\n",
       "      <td>America/Denver</td>\n",
       "      <td>http://www.monroecounty.gov/etc/911/rss.php</td>\n",
       "    </tr>\n",
       "  </tbody>\n",
       "</table>\n",
       "</div>"
      ],
      "text/plain": [
       "   _heartbeat_                                                  a  \\\n",
       "0          NaN  Mozilla/5.0 (Windows NT 6.1; WOW64) AppleWebKi...   \n",
       "1          NaN                             GoogleMaps/RochesterNY   \n",
       "\n",
       "               al   c       cy       g  gr       h          hc         hh  \\\n",
       "0  en-US,en;q=0.8  US  Danvers  A6qOVH  MA  wfLQtf  1331822918  1.usa.gov   \n",
       "1             NaN  US    Provo  mwszkS  UT  mwszkS  1308262393       j.mp   \n",
       "\n",
       "    kw        l                        ll  nk  \\\n",
       "0  NaN  orofrog   [42.576698, -70.954903]   1   \n",
       "1  NaN    bitly  [40.218102, -111.613297]   0   \n",
       "\n",
       "                                                   r           t  \\\n",
       "0  http://www.facebook.com/l/7AQEFzjSi/1.usa.gov/...  1331923247   \n",
       "1                           http://www.AwareMap.com/  1331923249   \n",
       "\n",
       "                 tz                                            u  \n",
       "0  America/New_York  http://www.ncbi.nlm.nih.gov/pubmed/22415991  \n",
       "1    America/Denver  http://www.monroecounty.gov/etc/911/rss.php  "
      ]
     },
     "execution_count": 7,
     "metadata": {},
     "output_type": "execute_result"
    }
   ],
   "source": [
    "data = pd.DataFrame(records)\n",
    "data.head(2)"
   ]
  },
  {
   "cell_type": "code",
   "execution_count": 13,
   "metadata": {
    "collapsed": false,
    "scrolled": true
   },
   "outputs": [
    {
     "data": {
      "text/plain": [
       "0        America/New_York\n",
       "1          America/Denver\n",
       "2        America/New_York\n",
       "3       America/Sao_Paulo\n",
       "4        America/New_York\n",
       "5        America/New_York\n",
       "6           Europe/Warsaw\n",
       "7                        \n",
       "8                        \n",
       "9                        \n",
       "10    America/Los_Angeles\n",
       "11       America/New_York\n",
       "12       America/New_York\n",
       "13                    NaN\n",
       "14       America/New_York\n",
       "Name: tz, dtype: object"
      ]
     },
     "execution_count": 13,
     "metadata": {},
     "output_type": "execute_result"
    }
   ],
   "source": [
    "tz = data['tz']\n",
    "tz[:15]\n",
    "### Attention, there are two kinds of missing value,\n",
    "# 1. NaN, such as index=13\n",
    "# 2. empty string, such as index=7,8,9"
   ]
  },
  {
   "cell_type": "code",
   "execution_count": 9,
   "metadata": {
    "collapsed": false,
    "scrolled": true
   },
   "outputs": [
    {
     "data": {
      "text/plain": [
       "America/New_York       1251\n",
       "                        521\n",
       "America/Chicago         400\n",
       "America/Los_Angeles     382\n",
       "America/Denver          191\n",
       "dtype: int64"
      ]
     },
     "execution_count": 9,
     "metadata": {},
     "output_type": "execute_result"
    }
   ],
   "source": [
    "tz_count = tz.value_counts() # Returns object containing counts of unique values.\n",
    "tz_count[:5]"
   ]
  },
  {
   "cell_type": "code",
   "execution_count": 10,
   "metadata": {
    "collapsed": false
   },
   "outputs": [
    {
     "data": {
      "text/plain": [
       "<matplotlib.axes.AxesSubplot at 0x10f086650>"
      ]
     },
     "execution_count": 10,
     "metadata": {},
     "output_type": "execute_result"
    },
    {
     "data": {
      "image/png": "[encoded data removed]",
      "text/plain": [
       "<matplotlib.figure.Figure at 0x10ebe7e10>"
      ]
     },
     "metadata": {},
     "output_type": "display_data"
    }
   ],
   "source": [
    "tz_count[:10].plot(kind='bar', rot=30, figsize=(10, 5))\n",
    "# mpld3.display()"
   ]
  },
  {
   "cell_type": "code",
   "execution_count": 15,
   "metadata": {
    "collapsed": false
   },
   "outputs": [
    {
     "data": {
      "text/plain": [
       "0        America/New_York\n",
       "1          America/Denver\n",
       "2        America/New_York\n",
       "3       America/Sao_Paulo\n",
       "4        America/New_York\n",
       "5        America/New_York\n",
       "6           Europe/Warsaw\n",
       "7                 Unknown\n",
       "8                 Unknown\n",
       "9                 Unknown\n",
       "10    America/Los_Angeles\n",
       "11       America/New_York\n",
       "12       America/New_York\n",
       "13                Missing\n",
       "14       America/New_York\n",
       "Name: tz, dtype: object"
      ]
     },
     "execution_count": 15,
     "metadata": {},
     "output_type": "execute_result"
    }
   ],
   "source": [
    "# deal with missing value\n",
    "clean_tz = tz.fillna(value='Missing')\n",
    "clean_tz[clean_tz == ''] = 'Unknown'\n",
    "clean_tz[:15]"
   ]
  },
  {
   "cell_type": "code",
   "execution_count": 16,
   "metadata": {
    "collapsed": false
   },
   "outputs": [
    {
     "data": {
      "text/plain": [
       "America/New_York       1251\n",
       "Unknown                 521\n",
       "America/Chicago         400\n",
       "America/Los_Angeles     382\n",
       "America/Denver          191\n",
       "dtype: int64"
      ]
     },
     "execution_count": 16,
     "metadata": {},
     "output_type": "execute_result"
    }
   ],
   "source": [
    "clean_tz_counts = clean_tz.value_counts()\n",
    "clean_tz_counts[:5]"
   ]
  },
  {
   "cell_type": "code",
   "execution_count": 18,
   "metadata": {
    "collapsed": false
   },
   "outputs": [
    {
     "data": {
      "text/plain": [
       "<matplotlib.axes.AxesSubplot at 0x10f220150>"
      ]
     },
     "execution_count": 18,
     "metadata": {},
     "output_type": "execute_result"
    },
    {
     "data": {
      "image/png": "[encoded data removed]",
      "text/plain": [
       "<matplotlib.figure.Figure at 0x10f222390>"
      ]
     },
     "metadata": {},
     "output_type": "display_data"
    }
   ],
   "source": [
    "clean_tz_counts[:10].plot(kind='barh', rot=0, figsize=(10, 5))"
   ]
  },
  {
   "cell_type": "markdown",
   "metadata": {
    "collapsed": true
   },
   "source": [
    "### Counting browser client"
   ]
  },
  {
   "cell_type": "code",
   "execution_count": 122,
   "metadata": {
    "collapsed": false
   },
   "outputs": [
    {
     "data": {
      "text/html": [
       "<div>\n",
       "<table border=\"1\" class=\"dataframe\">\n",
       "  <thead>\n",
       "    <tr style=\"text-align: right;\">\n",
       "      <th></th>\n",
       "      <th>_heartbeat_</th>\n",
       "      <th>a</th>\n",
       "      <th>al</th>\n",
       "      <th>c</th>\n",
       "      <th>cy</th>\n",
       "      <th>g</th>\n",
       "      <th>gr</th>\n",
       "      <th>h</th>\n",
       "      <th>hc</th>\n",
       "      <th>hh</th>\n",
       "      <th>kw</th>\n",
       "      <th>l</th>\n",
       "      <th>ll</th>\n",
       "      <th>nk</th>\n",
       "      <th>r</th>\n",
       "      <th>t</th>\n",
       "      <th>tz</th>\n",
       "      <th>u</th>\n",
       "    </tr>\n",
       "  </thead>\n",
       "  <tbody>\n",
       "    <tr>\n",
       "      <th>0</th>\n",
       "      <td>NaN</td>\n",
       "      <td>Mozilla/5.0 (Windows NT 6.1; WOW64) AppleWebKi...</td>\n",
       "      <td>en-US,en;q=0.8</td>\n",
       "      <td>US</td>\n",
       "      <td>Danvers</td>\n",
       "      <td>A6qOVH</td>\n",
       "      <td>MA</td>\n",
       "      <td>wfLQtf</td>\n",
       "      <td>1331822918</td>\n",
       "      <td>1.usa.gov</td>\n",
       "      <td>NaN</td>\n",
       "      <td>orofrog</td>\n",
       "      <td>[42.576698, -70.954903]</td>\n",
       "      <td>1</td>\n",
       "      <td>http://www.facebook.com/l/7AQEFzjSi/1.usa.gov/...</td>\n",
       "      <td>1331923247</td>\n",
       "      <td>America/New_York</td>\n",
       "      <td>http://www.ncbi.nlm.nih.gov/pubmed/22415991</td>\n",
       "    </tr>\n",
       "    <tr>\n",
       "      <th>1</th>\n",
       "      <td>NaN</td>\n",
       "      <td>GoogleMaps/RochesterNY</td>\n",
       "      <td>NaN</td>\n",
       "      <td>US</td>\n",
       "      <td>Provo</td>\n",
       "      <td>mwszkS</td>\n",
       "      <td>UT</td>\n",
       "      <td>mwszkS</td>\n",
       "      <td>1308262393</td>\n",
       "      <td>j.mp</td>\n",
       "      <td>NaN</td>\n",
       "      <td>bitly</td>\n",
       "      <td>[40.218102, -111.613297]</td>\n",
       "      <td>0</td>\n",
       "      <td>http://www.AwareMap.com/</td>\n",
       "      <td>1331923249</td>\n",
       "      <td>America/Denver</td>\n",
       "      <td>http://www.monroecounty.gov/etc/911/rss.php</td>\n",
       "    </tr>\n",
       "  </tbody>\n",
       "</table>\n",
       "</div>"
      ],
      "text/plain": [
       "   _heartbeat_                                                  a  \\\n",
       "0          NaN  Mozilla/5.0 (Windows NT 6.1; WOW64) AppleWebKi...   \n",
       "1          NaN                             GoogleMaps/RochesterNY   \n",
       "\n",
       "               al   c       cy       g  gr       h          hc         hh  \\\n",
       "0  en-US,en;q=0.8  US  Danvers  A6qOVH  MA  wfLQtf  1331822918  1.usa.gov   \n",
       "1             NaN  US    Provo  mwszkS  UT  mwszkS  1308262393       j.mp   \n",
       "\n",
       "    kw        l                        ll  nk  \\\n",
       "0  NaN  orofrog   [42.576698, -70.954903]   1   \n",
       "1  NaN    bitly  [40.218102, -111.613297]   0   \n",
       "\n",
       "                                                   r           t  \\\n",
       "0  http://www.facebook.com/l/7AQEFzjSi/1.usa.gov/...  1331923247   \n",
       "1                           http://www.AwareMap.com/  1331923249   \n",
       "\n",
       "                 tz                                            u  \n",
       "0  America/New_York  http://www.ncbi.nlm.nih.gov/pubmed/22415991  \n",
       "1    America/Denver  http://www.monroecounty.gov/etc/911/rss.php  "
      ]
     },
     "execution_count": 122,
     "metadata": {},
     "output_type": "execute_result"
    }
   ],
   "source": [
    "data.head(2)"
   ]
  },
  {
   "cell_type": "code",
   "execution_count": 123,
   "metadata": {
    "collapsed": false
   },
   "outputs": [
    {
     "data": {
      "text/plain": [
       "0    Mozilla/5.0 (Windows NT 6.1; WOW64) AppleWebKi...\n",
       "1                               GoogleMaps/RochesterNY\n",
       "2    Mozilla/4.0 (compatible; MSIE 8.0; Windows NT ...\n",
       "3    Mozilla/5.0 (Macintosh; Intel Mac OS X 10_6_8)...\n",
       "4    Mozilla/5.0 (Windows NT 6.1; WOW64) AppleWebKi...\n",
       "Name: a, dtype: object"
      ]
     },
     "execution_count": 123,
     "metadata": {},
     "output_type": "execute_result"
    }
   ],
   "source": [
    "browser = data.a\n",
    "browser[:5]"
   ]
  },
  {
   "cell_type": "code",
   "execution_count": 124,
   "metadata": {
    "collapsed": false
   },
   "outputs": [
    {
     "data": {
      "text/plain": [
       "0               Mozilla/5.0\n",
       "1    GoogleMaps/RochesterNY\n",
       "2               Mozilla/4.0\n",
       "3               Mozilla/5.0\n",
       "4               Mozilla/5.0\n",
       "dtype: object"
      ]
     },
     "execution_count": 124,
     "metadata": {},
     "output_type": "execute_result"
    }
   ],
   "source": [
    "browser = pd.Series([each.split()[0] for each in browser.dropna()])  # trans list to Series can be very helpful fo analysis\n",
    "browser[:5]"
   ]
  },
  {
   "cell_type": "code",
   "execution_count": 116,
   "metadata": {
    "collapsed": false
   },
   "outputs": [
    {
     "data": {
      "text/plain": [
       "Mozilla/5.0               2594\n",
       "Mozilla/4.0                601\n",
       "GoogleMaps/RochesterNY     121\n",
       "Opera/9.80                  34\n",
       "TEST_INTERNET_AGENT         24\n",
       "dtype: int64"
      ]
     },
     "execution_count": 116,
     "metadata": {},
     "output_type": "execute_result"
    }
   ],
   "source": [
    "browser.value_counts()[:5]"
   ]
  },
  {
   "cell_type": "code",
   "execution_count": 127,
   "metadata": {
    "collapsed": false
   },
   "outputs": [
    {
     "data": {
      "text/html": [
       "<div>\n",
       "<table border=\"1\" class=\"dataframe\">\n",
       "  <thead>\n",
       "    <tr style=\"text-align: right;\">\n",
       "      <th></th>\n",
       "      <th>_heartbeat_</th>\n",
       "      <th>a</th>\n",
       "      <th>al</th>\n",
       "      <th>c</th>\n",
       "      <th>cy</th>\n",
       "      <th>g</th>\n",
       "      <th>gr</th>\n",
       "      <th>h</th>\n",
       "      <th>hc</th>\n",
       "      <th>hh</th>\n",
       "      <th>kw</th>\n",
       "      <th>l</th>\n",
       "      <th>ll</th>\n",
       "      <th>nk</th>\n",
       "      <th>r</th>\n",
       "      <th>t</th>\n",
       "      <th>tz</th>\n",
       "      <th>u</th>\n",
       "    </tr>\n",
       "  </thead>\n",
       "  <tbody>\n",
       "    <tr>\n",
       "      <th>0</th>\n",
       "      <td>NaN</td>\n",
       "      <td>Mozilla/5.0 (Windows NT 6.1; WOW64) AppleWebKi...</td>\n",
       "      <td>en-US,en;q=0.8</td>\n",
       "      <td>US</td>\n",
       "      <td>Danvers</td>\n",
       "      <td>A6qOVH</td>\n",
       "      <td>MA</td>\n",
       "      <td>wfLQtf</td>\n",
       "      <td>1331822918</td>\n",
       "      <td>1.usa.gov</td>\n",
       "      <td>NaN</td>\n",
       "      <td>orofrog</td>\n",
       "      <td>[42.576698, -70.954903]</td>\n",
       "      <td>1</td>\n",
       "      <td>http://www.facebook.com/l/7AQEFzjSi/1.usa.gov/...</td>\n",
       "      <td>1331923247</td>\n",
       "      <td>America/New_York</td>\n",
       "      <td>http://www.ncbi.nlm.nih.gov/pubmed/22415991</td>\n",
       "    </tr>\n",
       "    <tr>\n",
       "      <th>1</th>\n",
       "      <td>NaN</td>\n",
       "      <td>GoogleMaps/RochesterNY</td>\n",
       "      <td>NaN</td>\n",
       "      <td>US</td>\n",
       "      <td>Provo</td>\n",
       "      <td>mwszkS</td>\n",
       "      <td>UT</td>\n",
       "      <td>mwszkS</td>\n",
       "      <td>1308262393</td>\n",
       "      <td>j.mp</td>\n",
       "      <td>NaN</td>\n",
       "      <td>bitly</td>\n",
       "      <td>[40.218102, -111.613297]</td>\n",
       "      <td>0</td>\n",
       "      <td>http://www.AwareMap.com/</td>\n",
       "      <td>1331923249</td>\n",
       "      <td>America/Denver</td>\n",
       "      <td>http://www.monroecounty.gov/etc/911/rss.php</td>\n",
       "    </tr>\n",
       "  </tbody>\n",
       "</table>\n",
       "</div>"
      ],
      "text/plain": [
       "   _heartbeat_                                                  a  \\\n",
       "0          NaN  Mozilla/5.0 (Windows NT 6.1; WOW64) AppleWebKi...   \n",
       "1          NaN                             GoogleMaps/RochesterNY   \n",
       "\n",
       "               al   c       cy       g  gr       h          hc         hh  \\\n",
       "0  en-US,en;q=0.8  US  Danvers  A6qOVH  MA  wfLQtf  1331822918  1.usa.gov   \n",
       "1             NaN  US    Provo  mwszkS  UT  mwszkS  1308262393       j.mp   \n",
       "\n",
       "    kw        l                        ll  nk  \\\n",
       "0  NaN  orofrog   [42.576698, -70.954903]   1   \n",
       "1  NaN    bitly  [40.218102, -111.613297]   0   \n",
       "\n",
       "                                                   r           t  \\\n",
       "0  http://www.facebook.com/l/7AQEFzjSi/1.usa.gov/...  1331923247   \n",
       "1                           http://www.AwareMap.com/  1331923249   \n",
       "\n",
       "                 tz                                            u  \n",
       "0  America/New_York  http://www.ncbi.nlm.nih.gov/pubmed/22415991  \n",
       "1    America/Denver  http://www.monroecounty.gov/etc/911/rss.php  "
      ]
     },
     "execution_count": 127,
     "metadata": {},
     "output_type": "execute_result"
    }
   ],
   "source": [
    "client = data[data.a.notnull()]\n",
    "client.head(2)"
   ]
  },
  {
   "cell_type": "code",
   "execution_count": 145,
   "metadata": {
    "collapsed": false
   },
   "outputs": [
    {
     "data": {
      "text/plain": [
       "0        Windows\n",
       "1    Not Windows\n",
       "2        Windows\n",
       "3    Not Windows\n",
       "4        Windows\n",
       "dtype: object"
      ]
     },
     "execution_count": 145,
     "metadata": {},
     "output_type": "execute_result"
    }
   ],
   "source": [
    "operation_system = np.where(client['a'].str.contains('Windows'), 'Windows', 'Not Windows')\n",
    "operation_system = pd.Series(operation_system)\n",
    "operation_system[:5]"
   ]
  },
  {
   "cell_type": "code",
   "execution_count": 146,
   "metadata": {
    "collapsed": false
   },
   "outputs": [],
   "source": [
    "by_tz_os = client.groupby(['tz', operation_system]) # I think operation_system is play as a Window function here"
   ]
  },
  {
   "cell_type": "code",
   "execution_count": 147,
   "metadata": {
    "collapsed": false
   },
   "outputs": [
    {
     "data": {
      "text/html": [
       "<div>\n",
       "<table border=\"1\" class=\"dataframe\">\n",
       "  <thead>\n",
       "    <tr style=\"text-align: right;\">\n",
       "      <th></th>\n",
       "      <th>Not Windows</th>\n",
       "      <th>Windows</th>\n",
       "    </tr>\n",
       "    <tr>\n",
       "      <th>tz</th>\n",
       "      <th></th>\n",
       "      <th></th>\n",
       "    </tr>\n",
       "  </thead>\n",
       "  <tbody>\n",
       "    <tr>\n",
       "      <th></th>\n",
       "      <td>180</td>\n",
       "      <td>316</td>\n",
       "    </tr>\n",
       "    <tr>\n",
       "      <th>Africa/Cairo</th>\n",
       "      <td>1</td>\n",
       "      <td>2</td>\n",
       "    </tr>\n",
       "    <tr>\n",
       "      <th>Africa/Casablanca</th>\n",
       "      <td>0</td>\n",
       "      <td>1</td>\n",
       "    </tr>\n",
       "    <tr>\n",
       "      <th>Africa/Ceuta</th>\n",
       "      <td>1</td>\n",
       "      <td>1</td>\n",
       "    </tr>\n",
       "    <tr>\n",
       "      <th>Africa/Johannesburg</th>\n",
       "      <td>0</td>\n",
       "      <td>1</td>\n",
       "    </tr>\n",
       "  </tbody>\n",
       "</table>\n",
       "</div>"
      ],
      "text/plain": [
       "                     Not Windows  Windows\n",
       "tz                                       \n",
       "                             180      316\n",
       "Africa/Cairo                   1        2\n",
       "Africa/Casablanca              0        1\n",
       "Africa/Ceuta                   1        1\n",
       "Africa/Johannesburg            0        1"
      ]
     },
     "execution_count": 147,
     "metadata": {},
     "output_type": "execute_result"
    }
   ],
   "source": [
    "aggregation_count = by_tz_os.size().unstack().fillna(0)\n",
    "aggregation_count[:5]"
   ]
  },
  {
   "cell_type": "code",
   "execution_count": 148,
   "metadata": {
    "collapsed": false
   },
   "outputs": [
    {
     "data": {
      "text/plain": [
       "tz\n",
       "                       21\n",
       "Africa/Cairo           51\n",
       "Africa/Casablanca      52\n",
       "Africa/Ceuta           36\n",
       "Africa/Johannesburg    53\n",
       "dtype: int64"
      ]
     },
     "execution_count": 148,
     "metadata": {},
     "output_type": "execute_result"
    }
   ],
   "source": [
    "# select the top overall time zones\n",
    "indexer = aggregation_count.sum(1).argsort()\n",
    "indexer[:5]"
   ]
  },
  {
   "cell_type": "code",
   "execution_count": 149,
   "metadata": {
    "collapsed": false
   },
   "outputs": [
    {
     "data": {
      "text/html": [
       "<div>\n",
       "<table border=\"1\" class=\"dataframe\">\n",
       "  <thead>\n",
       "    <tr style=\"text-align: right;\">\n",
       "      <th></th>\n",
       "      <th>Not Windows</th>\n",
       "      <th>Windows</th>\n",
       "    </tr>\n",
       "    <tr>\n",
       "      <th>tz</th>\n",
       "      <th></th>\n",
       "      <th></th>\n",
       "    </tr>\n",
       "  </thead>\n",
       "  <tbody>\n",
       "    <tr>\n",
       "      <th>America/Sao_Paulo</th>\n",
       "      <td>12</td>\n",
       "      <td>21</td>\n",
       "    </tr>\n",
       "    <tr>\n",
       "      <th>Europe/Madrid</th>\n",
       "      <td>15</td>\n",
       "      <td>19</td>\n",
       "    </tr>\n",
       "    <tr>\n",
       "      <th>Pacific/Honolulu</th>\n",
       "      <td>10</td>\n",
       "      <td>25</td>\n",
       "    </tr>\n",
       "    <tr>\n",
       "      <th>Asia/Tokyo</th>\n",
       "      <td>14</td>\n",
       "      <td>23</td>\n",
       "    </tr>\n",
       "    <tr>\n",
       "      <th>Europe/London</th>\n",
       "      <td>32</td>\n",
       "      <td>40</td>\n",
       "    </tr>\n",
       "    <tr>\n",
       "      <th>America/Denver</th>\n",
       "      <td>56</td>\n",
       "      <td>125</td>\n",
       "    </tr>\n",
       "    <tr>\n",
       "      <th>America/Los_Angeles</th>\n",
       "      <td>122</td>\n",
       "      <td>247</td>\n",
       "    </tr>\n",
       "    <tr>\n",
       "      <th>America/Chicago</th>\n",
       "      <td>131</td>\n",
       "      <td>249</td>\n",
       "    </tr>\n",
       "    <tr>\n",
       "      <th></th>\n",
       "      <td>180</td>\n",
       "      <td>316</td>\n",
       "    </tr>\n",
       "    <tr>\n",
       "      <th>America/New_York</th>\n",
       "      <td>426</td>\n",
       "      <td>798</td>\n",
       "    </tr>\n",
       "  </tbody>\n",
       "</table>\n",
       "</div>"
      ],
      "text/plain": [
       "                     Not Windows  Windows\n",
       "tz                                       \n",
       "America/Sao_Paulo             12       21\n",
       "Europe/Madrid                 15       19\n",
       "Pacific/Honolulu              10       25\n",
       "Asia/Tokyo                    14       23\n",
       "Europe/London                 32       40\n",
       "America/Denver                56      125\n",
       "America/Los_Angeles          122      247\n",
       "America/Chicago              131      249\n",
       "                             180      316\n",
       "America/New_York             426      798"
      ]
     },
     "execution_count": 149,
     "metadata": {},
     "output_type": "execute_result"
    }
   ],
   "source": [
    "count_subset = aggregation_count.take(indexer)\n",
    "count_subset[-10:]"
   ]
  },
  {
   "cell_type": "code",
   "execution_count": 155,
   "metadata": {
    "collapsed": false
   },
   "outputs": [
    {
     "data": {
      "text/plain": [
       "<matplotlib.axes.AxesSubplot at 0x110620950>"
      ]
     },
     "execution_count": 155,
     "metadata": {},
     "output_type": "execute_result"
    },
    {
     "data": {
      "image/png": "[encoded data removed]",
      "text/plain": [
       "<matplotlib.figure.Figure at 0x10f2fd090>"
      ]
     },
     "metadata": {},
     "output_type": "display_data"
    }
   ],
   "source": [
    "count_subset[-10:].plot(kind='barh', stacked=True, figsize=(10, 5))"
   ]
  },
  {
   "cell_type": "code",
   "execution_count": 157,
   "metadata": {
    "collapsed": false
   },
   "outputs": [
    {
     "data": {
      "text/html": [
       "<div>\n",
       "<table border=\"1\" class=\"dataframe\">\n",
       "  <thead>\n",
       "    <tr style=\"text-align: right;\">\n",
       "      <th></th>\n",
       "      <th>Not Windows</th>\n",
       "      <th>Windows</th>\n",
       "    </tr>\n",
       "    <tr>\n",
       "      <th>tz</th>\n",
       "      <th></th>\n",
       "      <th></th>\n",
       "    </tr>\n",
       "  </thead>\n",
       "  <tbody>\n",
       "    <tr>\n",
       "      <th>America/Sao_Paulo</th>\n",
       "      <td>0.363636</td>\n",
       "      <td>0.636364</td>\n",
       "    </tr>\n",
       "    <tr>\n",
       "      <th>Europe/Madrid</th>\n",
       "      <td>0.441176</td>\n",
       "      <td>0.558824</td>\n",
       "    </tr>\n",
       "    <tr>\n",
       "      <th>Pacific/Honolulu</th>\n",
       "      <td>0.285714</td>\n",
       "      <td>0.714286</td>\n",
       "    </tr>\n",
       "    <tr>\n",
       "      <th>Asia/Tokyo</th>\n",
       "      <td>0.378378</td>\n",
       "      <td>0.621622</td>\n",
       "    </tr>\n",
       "    <tr>\n",
       "      <th>Europe/London</th>\n",
       "      <td>0.444444</td>\n",
       "      <td>0.555556</td>\n",
       "    </tr>\n",
       "    <tr>\n",
       "      <th>America/Denver</th>\n",
       "      <td>0.309392</td>\n",
       "      <td>0.690608</td>\n",
       "    </tr>\n",
       "    <tr>\n",
       "      <th>America/Los_Angeles</th>\n",
       "      <td>0.330623</td>\n",
       "      <td>0.669377</td>\n",
       "    </tr>\n",
       "    <tr>\n",
       "      <th>America/Chicago</th>\n",
       "      <td>0.344737</td>\n",
       "      <td>0.655263</td>\n",
       "    </tr>\n",
       "    <tr>\n",
       "      <th></th>\n",
       "      <td>0.362903</td>\n",
       "      <td>0.637097</td>\n",
       "    </tr>\n",
       "    <tr>\n",
       "      <th>America/New_York</th>\n",
       "      <td>0.348039</td>\n",
       "      <td>0.651961</td>\n",
       "    </tr>\n",
       "  </tbody>\n",
       "</table>\n",
       "</div>"
      ],
      "text/plain": [
       "                     Not Windows   Windows\n",
       "tz                                        \n",
       "America/Sao_Paulo       0.363636  0.636364\n",
       "Europe/Madrid           0.441176  0.558824\n",
       "Pacific/Honolulu        0.285714  0.714286\n",
       "Asia/Tokyo              0.378378  0.621622\n",
       "Europe/London           0.444444  0.555556\n",
       "America/Denver          0.309392  0.690608\n",
       "America/Los_Angeles     0.330623  0.669377\n",
       "America/Chicago         0.344737  0.655263\n",
       "                        0.362903  0.637097\n",
       "America/New_York        0.348039  0.651961"
      ]
     },
     "execution_count": 157,
     "metadata": {},
     "output_type": "execute_result"
    }
   ],
   "source": [
    "normal_subset = count_subset.div(count_subset.sum(1), axis=0)\n",
    "normal_subset[-10:]"
   ]
  },
  {
   "cell_type": "code",
   "execution_count": 176,
   "metadata": {
    "collapsed": false
   },
   "outputs": [
    {
     "data": {
      "text/plain": [
       "<matplotlib.legend.Legend at 0x111a08b50>"
      ]
     },
     "execution_count": 176,
     "metadata": {},
     "output_type": "execute_result"
    },
    {
     "data": {
      "image/png": "[encoded data removed]",
      "text/plain": [
       "<matplotlib.figure.Figure at 0x111e10b50>"
      ]
     },
     "metadata": {},
     "output_type": "display_data"
    }
   ],
   "source": [
    "ax = normal_subset[-10:].plot(kind='barh', stacked=True, figsize=(10, 5), legend=False)\n",
    "ax.legend(loc='center right', bbox_to_anchor=(1.2, 0.5))"
   ]
  },
  {
   "cell_type": "code",
   "execution_count": null,
   "metadata": {
    "collapsed": false
   },
   "outputs": [],
   "source": []
  },
  {
   "cell_type": "markdown",
   "metadata": {},
   "source": [
    "### Movie data analysis"
   ]
  },
  {
   "cell_type": "code",
   "execution_count": 185,
   "metadata": {
    "collapsed": false
   },
   "outputs": [
    {
     "name": "stdout",
     "output_type": "stream",
     "text": [
      "1  F  1   10  48067\r\n",
      "2  M  56  16  70072\r\n",
      "3  M  25  15  55117\r\n",
      "4  M  45  7   02460\r\n",
      "5  M  25  20  55455\r\n"
     ]
    }
   ],
   "source": [
    "!head -5 'ch02/movielens/users.dat' | column -t -s '::'"
   ]
  },
  {
   "cell_type": "code",
   "execution_count": 186,
   "metadata": {
    "collapsed": false
   },
   "outputs": [
    {
     "name": "stdout",
     "output_type": "stream",
     "text": [
      "1  Toy Story (1995)                    Animation|Children's|Comedy\r\n",
      "2  Jumanji (1995)                      Adventure|Children's|Fantasy\r\n",
      "3  Grumpier Old Men (1995)             Comedy|Romance\r\n",
      "4  Waiting to Exhale (1995)            Comedy|Drama\r\n",
      "5  Father of the Bride Part II (1995)  Comedy\r\n"
     ]
    }
   ],
   "source": [
    "!head -5 'ch02/movielens/movies.dat' | column -t -s '::'"
   ]
  },
  {
   "cell_type": "code",
   "execution_count": 189,
   "metadata": {
    "collapsed": false
   },
   "outputs": [
    {
     "name": "stdout",
     "output_type": "stream",
     "text": [
      "1  1193  5  978300760\r\n",
      "1  661   3  978302109\r\n",
      "1  914   3  978301968\r\n",
      "1  3408  4  978300275\r\n",
      "1  2355  5  978824291\r\n"
     ]
    }
   ],
   "source": [
    "!head -5 'ch02/movielens/ratings.dat' | column -t -s '::'"
   ]
  },
  {
   "cell_type": "code",
   "execution_count": 194,
   "metadata": {
    "collapsed": false
   },
   "outputs": [
    {
     "data": {
      "text/html": [
       "<div>\n",
       "<table border=\"1\" class=\"dataframe\">\n",
       "  <thead>\n",
       "    <tr style=\"text-align: right;\">\n",
       "      <th></th>\n",
       "      <th>user_id</th>\n",
       "      <th>gender</th>\n",
       "      <th>age</th>\n",
       "      <th>occupation</th>\n",
       "      <th>zipcode</th>\n",
       "    </tr>\n",
       "  </thead>\n",
       "  <tbody>\n",
       "    <tr>\n",
       "      <th>0</th>\n",
       "      <td>1</td>\n",
       "      <td>F</td>\n",
       "      <td>1</td>\n",
       "      <td>10</td>\n",
       "      <td>48067</td>\n",
       "    </tr>\n",
       "    <tr>\n",
       "      <th>1</th>\n",
       "      <td>2</td>\n",
       "      <td>M</td>\n",
       "      <td>56</td>\n",
       "      <td>16</td>\n",
       "      <td>70072</td>\n",
       "    </tr>\n",
       "  </tbody>\n",
       "</table>\n",
       "</div>"
      ],
      "text/plain": [
       "   user_id gender  age  occupation zipcode\n",
       "0        1      F    1          10   48067\n",
       "1        2      M   56          16   70072"
      ]
     },
     "execution_count": 194,
     "metadata": {},
     "output_type": "execute_result"
    }
   ],
   "source": [
    "user_names = ['user_id', 'gender', 'age', 'occupation', 'zipcode']\n",
    "users = pd.read_table('ch02/movielens/users.dat', sep='::', header=None, names=user_names, engine='python')\n",
    "users.head(2)"
   ]
  },
  {
   "cell_type": "code",
   "execution_count": 195,
   "metadata": {
    "collapsed": false
   },
   "outputs": [
    {
     "data": {
      "text/html": [
       "<div>\n",
       "<table border=\"1\" class=\"dataframe\">\n",
       "  <thead>\n",
       "    <tr style=\"text-align: right;\">\n",
       "      <th></th>\n",
       "      <th>movie_id</th>\n",
       "      <th>title</th>\n",
       "      <th>genres</th>\n",
       "    </tr>\n",
       "  </thead>\n",
       "  <tbody>\n",
       "    <tr>\n",
       "      <th>0</th>\n",
       "      <td>1</td>\n",
       "      <td>Toy Story (1995)</td>\n",
       "      <td>Animation|Children's|Comedy</td>\n",
       "    </tr>\n",
       "    <tr>\n",
       "      <th>1</th>\n",
       "      <td>2</td>\n",
       "      <td>Jumanji (1995)</td>\n",
       "      <td>Adventure|Children's|Fantasy</td>\n",
       "    </tr>\n",
       "  </tbody>\n",
       "</table>\n",
       "</div>"
      ],
      "text/plain": [
       "   movie_id             title                        genres\n",
       "0         1  Toy Story (1995)   Animation|Children's|Comedy\n",
       "1         2    Jumanji (1995)  Adventure|Children's|Fantasy"
      ]
     },
     "execution_count": 195,
     "metadata": {},
     "output_type": "execute_result"
    }
   ],
   "source": [
    "movie_names = ['movie_id', 'title', 'genres']\n",
    "movies = pd.read_table('ch02/movielens/movies.dat', sep='::', header=None, names=movie_names, engine='python')\n",
    "movies.head(2)"
   ]
  },
  {
   "cell_type": "code",
   "execution_count": 199,
   "metadata": {
    "collapsed": false
   },
   "outputs": [
    {
     "name": "stdout",
     "output_type": "stream",
     "text": [
      "records:  1000209\n"
     ]
    },
    {
     "data": {
      "text/html": [
       "<div>\n",
       "<table border=\"1\" class=\"dataframe\">\n",
       "  <thead>\n",
       "    <tr style=\"text-align: right;\">\n",
       "      <th></th>\n",
       "      <th>user_id</th>\n",
       "      <th>movie_id</th>\n",
       "      <th>rating</th>\n",
       "      <th>timestamp</th>\n",
       "    </tr>\n",
       "  </thead>\n",
       "  <tbody>\n",
       "    <tr>\n",
       "      <th>0</th>\n",
       "      <td>1</td>\n",
       "      <td>1193</td>\n",
       "      <td>5</td>\n",
       "      <td>978300760</td>\n",
       "    </tr>\n",
       "    <tr>\n",
       "      <th>1</th>\n",
       "      <td>1</td>\n",
       "      <td>661</td>\n",
       "      <td>3</td>\n",
       "      <td>978302109</td>\n",
       "    </tr>\n",
       "  </tbody>\n",
       "</table>\n",
       "</div>"
      ],
      "text/plain": [
       "   user_id  movie_id  rating  timestamp\n",
       "0        1      1193       5  978300760\n",
       "1        1       661       3  978302109"
      ]
     },
     "execution_count": 199,
     "metadata": {},
     "output_type": "execute_result"
    }
   ],
   "source": [
    "rating_names = ['user_id', 'movie_id', 'rating', 'timestamp']\n",
    "ratings = pd.read_table('ch02/movielens/ratings.dat', sep='::', header=None, names=rating_names, engine='python')\n",
    "print 'records: ', len(ratings)\n",
    "ratings.head(2)"
   ]
  },
  {
   "cell_type": "code",
   "execution_count": 200,
   "metadata": {
    "collapsed": false
   },
   "outputs": [
    {
     "name": "stdout",
     "output_type": "stream",
     "text": [
      "SUMMARY\r\n",
      "================================================================================\r\n",
      "\r\n",
      "These files contain 1,000,209 anonymous ratings of approximately 3,900 movies \r\n",
      "made by 6,040 MovieLens users who joined MovieLens in 2000.\r\n",
      "\r\n",
      "USAGE LICENSE\r\n",
      "================================================================================\r\n",
      "\r\n",
      "Neither the University of Minnesota nor any of the researchers\r\n",
      "involved can guarantee the correctness of the data, its suitability\r\n",
      "for any particular purpose, or the validity of results based on the\r\n",
      "use of the data set.  The data set may be used for any research\r\n",
      "purposes under the following conditions:\r\n",
      "\r\n",
      "     * The user may not state or imply any endorsement from the\r\n",
      "       University of Minnesota or the GroupLens Research Group.\r\n",
      "\r\n",
      "     * The user must acknowledge the use of the data set in\r\n",
      "       publications resulting from the use of the data set, and must\r\n",
      "       send us an electronic or paper copy of those publications.\r\n",
      "\r\n",
      "     * The user may not redistribute the data without separate\r\n",
      "       permission.\r\n",
      "\r\n",
      "     * The user may not use this information for any commercial or\r\n",
      "       revenue-bearing purposes without first obtaining permission\r\n",
      "       from a faculty member of the GroupLens Research Project at the\r\n",
      "       University of Minnesota.\r\n",
      "\r\n",
      "If you have any further questions or comments, please contact Sean McNee\r\n",
      "<mcnee@cs.umn.edu>. \r\n",
      "\r\n",
      "ACKNOWLEDGEMENTS\r\n",
      "================================================================================\r\n",
      "\r\n",
      "Thanks to Shyong Lam and Jon Herlocker for cleaning up and generating the data\r\n",
      "set.\r\n",
      "\r\n",
      "FURTHER INFORMATION ABOUT THE GROUPLENS RESEARCH PROJECT\r\n",
      "================================================================================\r\n",
      "\r\n",
      "The GroupLens Research Project is a research group in the Department of \r\n",
      "Computer Science and Engineering at the University of Minnesota. Members of \r\n",
      "the GroupLens Research Project are involved in many research projects related \r\n",
      "to the fields of information filtering, collaborative filtering, and \r\n",
      "recommender systems. The project is lead by professors John Riedl and Joseph \r\n",
      "Konstan. The project began to explore automated collaborative filtering in \r\n",
      "1992, but is most well known for its world wide trial of an automated \r\n",
      "collaborative filtering system for Usenet news in 1996. Since then the project \r\n",
      "has expanded its scope to research overall information filtering solutions, \r\n",
      "integrating in content-based methods as well as improving current collaborative \r\n",
      "filtering technology.\r\n",
      "\r\n",
      "Further information on the GroupLens Research project, including research \r\n",
      "publications, can be found at the following web site:\r\n",
      "        \r\n",
      "        http://www.grouplens.org/\r\n",
      "\r\n",
      "GroupLens Research currently operates a movie recommender based on \r\n",
      "collaborative filtering:\r\n",
      "\r\n",
      "        http://www.movielens.org/\r\n",
      "\r\n",
      "RATINGS FILE DESCRIPTION\r\n",
      "================================================================================\r\n",
      "\r\n",
      "All ratings are contained in the file \"ratings.dat\" and are in the\r\n",
      "following format:\r\n",
      "\r\n",
      "UserID::MovieID::Rating::Timestamp\r\n",
      "\r\n",
      "- UserIDs range between 1 and 6040 \r\n",
      "- MovieIDs range between 1 and 3952\r\n",
      "- Ratings are made on a 5-star scale (whole-star ratings only)\r\n",
      "- Timestamp is represented in seconds since the epoch as returned by time(2)\r\n",
      "- Each user has at least 20 ratings\r\n",
      "\r\n",
      "USERS FILE DESCRIPTION\r\n",
      "================================================================================\r\n",
      "\r\n",
      "User information is in the file \"users.dat\" and is in the following\r\n",
      "format:\r\n",
      "\r\n",
      "UserID::Gender::Age::Occupation::Zip-code\r\n",
      "\r\n",
      "All demographic information is provided voluntarily by the users and is\r\n",
      "not checked for accuracy.  Only users who have provided some demographic\r\n",
      "information are included in this data set.\r\n",
      "\r\n",
      "- Gender is denoted by a \"M\" for male and \"F\" for female\r\n",
      "- Age is chosen from the following ranges:\r\n",
      "\r\n",
      "\t*  1:  \"Under 18\"\r\n",
      "\t* 18:  \"18-24\"\r\n",
      "\t* 25:  \"25-34\"\r\n",
      "\t* 35:  \"35-44\"\r\n",
      "\t* 45:  \"45-49\"\r\n",
      "\t* 50:  \"50-55\"\r\n",
      "\t* 56:  \"56+\"\r\n",
      "\r\n",
      "- Occupation is chosen from the following choices:\r\n",
      "\r\n",
      "\t*  0:  \"other\" or not specified\r\n",
      "\t*  1:  \"academic/educator\"\r\n",
      "\t*  2:  \"artist\"\r\n",
      "\t*  3:  \"clerical/admin\"\r\n",
      "\t*  4:  \"college/grad student\"\r\n",
      "\t*  5:  \"customer service\"\r\n",
      "\t*  6:  \"doctor/health care\"\r\n",
      "\t*  7:  \"executive/managerial\"\r\n",
      "\t*  8:  \"farmer\"\r\n",
      "\t*  9:  \"homemaker\"\r\n",
      "\t* 10:  \"K-12 student\"\r\n",
      "\t* 11:  \"lawyer\"\r\n",
      "\t* 12:  \"programmer\"\r\n",
      "\t* 13:  \"retired\"\r\n",
      "\t* 14:  \"sales/marketing\"\r\n",
      "\t* 15:  \"scientist\"\r\n",
      "\t* 16:  \"self-employed\"\r\n",
      "\t* 17:  \"technician/engineer\"\r\n",
      "\t* 18:  \"tradesman/craftsman\"\r\n",
      "\t* 19:  \"unemployed\"\r\n",
      "\t* 20:  \"writer\"\r\n",
      "\r\n",
      "MOVIES FILE DESCRIPTION\r\n",
      "================================================================================\r\n",
      "\r\n",
      "Movie information is in the file \"movies.dat\" and is in the following\r\n",
      "format:\r\n",
      "\r\n",
      "MovieID::Title::Genres\r\n",
      "\r\n",
      "- Titles are identical to titles provided by the IMDB (including\r\n",
      "year of release)\r\n",
      "- Genres are pipe-separated and are selected from the following genres:\r\n",
      "\r\n",
      "\t* Action\r\n",
      "\t* Adventure\r\n",
      "\t* Animation\r\n",
      "\t* Children's\r\n",
      "\t* Comedy\r\n",
      "\t* Crime\r\n",
      "\t* Documentary\r\n",
      "\t* Drama\r\n",
      "\t* Fantasy\r\n",
      "\t* Film-Noir\r\n",
      "\t* Horror\r\n",
      "\t* Musical\r\n",
      "\t* Mystery\r\n",
      "\t* Romance\r",
      "\r\n",
      "\t* Sci-Fi\r\n",
      "\t* Thriller\r\n",
      "\t* War\r\n",
      "\t* Western\r\n",
      "\r\n",
      "- Some MovieIDs do not correspond to a movie due to accidental duplicate\r\n",
      "entries and/or test entries\r\n",
      "- Movies are mostly entered by hand, so errors and inconsistencies may exist\r\n"
     ]
    }
   ],
   "source": [
    "# format explanation\n",
    "!cat 'ch02/movielens/README'"
   ]
  },
  {
   "cell_type": "code",
   "execution_count": 202,
   "metadata": {
    "collapsed": true
   },
   "outputs": [],
   "source": [
    "# merge user, rating and movie into one table to do analysis\n",
    "data = pd.merge(pd.merge(users, ratings, on='user_id'), movies, on='movie_id')"
   ]
  },
  {
   "cell_type": "code",
   "execution_count": 204,
   "metadata": {
    "collapsed": false
   },
   "outputs": [
    {
     "data": {
      "text/html": [
       "<div>\n",
       "<table border=\"1\" class=\"dataframe\">\n",
       "  <thead>\n",
       "    <tr style=\"text-align: right;\">\n",
       "      <th></th>\n",
       "      <th>user_id</th>\n",
       "      <th>gender</th>\n",
       "      <th>age</th>\n",
       "      <th>occupation</th>\n",
       "      <th>zipcode</th>\n",
       "      <th>movie_id</th>\n",
       "      <th>rating</th>\n",
       "      <th>timestamp</th>\n",
       "      <th>title</th>\n",
       "      <th>genres</th>\n",
       "    </tr>\n",
       "  </thead>\n",
       "  <tbody>\n",
       "    <tr>\n",
       "      <th>0</th>\n",
       "      <td>1</td>\n",
       "      <td>F</td>\n",
       "      <td>1</td>\n",
       "      <td>10</td>\n",
       "      <td>48067</td>\n",
       "      <td>1193</td>\n",
       "      <td>5</td>\n",
       "      <td>978300760</td>\n",
       "      <td>One Flew Over the Cuckoo's Nest (1975)</td>\n",
       "      <td>Drama</td>\n",
       "    </tr>\n",
       "    <tr>\n",
       "      <th>1</th>\n",
       "      <td>2</td>\n",
       "      <td>M</td>\n",
       "      <td>56</td>\n",
       "      <td>16</td>\n",
       "      <td>70072</td>\n",
       "      <td>1193</td>\n",
       "      <td>5</td>\n",
       "      <td>978298413</td>\n",
       "      <td>One Flew Over the Cuckoo's Nest (1975)</td>\n",
       "      <td>Drama</td>\n",
       "    </tr>\n",
       "  </tbody>\n",
       "</table>\n",
       "</div>"
      ],
      "text/plain": [
       "   user_id gender  age  occupation zipcode  movie_id  rating  timestamp  \\\n",
       "0        1      F    1          10   48067      1193       5  978300760   \n",
       "1        2      M   56          16   70072      1193       5  978298413   \n",
       "\n",
       "                                    title genres  \n",
       "0  One Flew Over the Cuckoo's Nest (1975)  Drama  \n",
       "1  One Flew Over the Cuckoo's Nest (1975)  Drama  "
      ]
     },
     "execution_count": 204,
     "metadata": {},
     "output_type": "execute_result"
    }
   ],
   "source": [
    "data.head(2)"
   ]
  },
  {
   "cell_type": "code",
   "execution_count": 212,
   "metadata": {
    "collapsed": false,
    "scrolled": true
   },
   "outputs": [
    {
     "name": "stdout",
     "output_type": "stream",
     "text": [
      "merged data: \n",
      "<class 'pandas.core.frame.DataFrame'>\n",
      "Int64Index: 1000209 entries, 0 to 1000208\n",
      "Data columns (total 10 columns):\n",
      "user_id       1000209 non-null int64\n",
      "gender        1000209 non-null object\n",
      "age           1000209 non-null int64\n",
      "occupation    1000209 non-null int64\n",
      "zipcode       1000209 non-null object\n",
      "movie_id      1000209 non-null int64\n",
      "rating        1000209 non-null int64\n",
      "timestamp     1000209 non-null int64\n",
      "title         1000209 non-null object\n",
      "genres        1000209 non-null object\n",
      "dtypes: int64(6), object(4)\n",
      "memory usage: 83.9+ MB\n",
      "None\n",
      "user data: \n",
      "<class 'pandas.core.frame.DataFrame'>\n",
      "Int64Index: 6040 entries, 0 to 6039\n",
      "Data columns (total 5 columns):\n",
      "user_id       6040 non-null int64\n",
      "gender        6040 non-null object\n",
      "age           6040 non-null int64\n",
      "occupation    6040 non-null int64\n",
      "zipcode       6040 non-null object\n",
      "dtypes: int64(3), object(2)\n",
      "memory usage: 283.1+ KB\n",
      "None\n",
      "rating data: \n",
      "<class 'pandas.core.frame.DataFrame'>\n",
      "Int64Index: 1000209 entries, 0 to 1000208\n",
      "Data columns (total 4 columns):\n",
      "user_id      1000209 non-null int64\n",
      "movie_id     1000209 non-null int64\n",
      "rating       1000209 non-null int64\n",
      "timestamp    1000209 non-null int64\n",
      "dtypes: int64(4)\n",
      "memory usage: 38.2 MB\n",
      "None\n",
      "movie data: \n",
      "<class 'pandas.core.frame.DataFrame'>\n",
      "Int64Index: 3883 entries, 0 to 3882\n",
      "Data columns (total 3 columns):\n",
      "movie_id    3883 non-null int64\n",
      "title       3883 non-null object\n",
      "genres      3883 non-null object\n",
      "dtypes: int64(1), object(2)\n",
      "memory usage: 121.3+ KB\n",
      "None\n"
     ]
    }
   ],
   "source": [
    "# you should realize the pros and cons to merge data into one data frame\n",
    "# pros: easy on analysing\n",
    "# cons: need more space\n",
    "# see, 83.9 MB >> 283.1 kb + 38.2 MB + 121.3 KB\n",
    "print 'merged data: \\n', data.info()\n",
    "print 'user data: \\n', users.info()\n",
    "print 'rating data: \\n', ratings.info()\n",
    "print 'movie data: \\n', movies.info()"
   ]
  },
  {
   "cell_type": "code",
   "execution_count": 222,
   "metadata": {
    "collapsed": false
   },
   "outputs": [
    {
     "data": {
      "text/html": [
       "<div>\n",
       "<table border=\"1\" class=\"dataframe\">\n",
       "  <thead>\n",
       "    <tr style=\"text-align: right;\">\n",
       "      <th>gender</th>\n",
       "      <th>F</th>\n",
       "      <th>M</th>\n",
       "    </tr>\n",
       "    <tr>\n",
       "      <th>title</th>\n",
       "      <th></th>\n",
       "      <th></th>\n",
       "    </tr>\n",
       "  </thead>\n",
       "  <tbody>\n",
       "    <tr>\n",
       "      <th>$1,000,000 Duck (1971)</th>\n",
       "      <td>3.375000</td>\n",
       "      <td>2.761905</td>\n",
       "    </tr>\n",
       "    <tr>\n",
       "      <th>'Night Mother (1986)</th>\n",
       "      <td>3.388889</td>\n",
       "      <td>3.352941</td>\n",
       "    </tr>\n",
       "    <tr>\n",
       "      <th>'Til There Was You (1997)</th>\n",
       "      <td>2.675676</td>\n",
       "      <td>2.733333</td>\n",
       "    </tr>\n",
       "    <tr>\n",
       "      <th>'burbs, The (1989)</th>\n",
       "      <td>2.793478</td>\n",
       "      <td>2.962085</td>\n",
       "    </tr>\n",
       "    <tr>\n",
       "      <th>...And Justice for All (1979)</th>\n",
       "      <td>3.828571</td>\n",
       "      <td>3.689024</td>\n",
       "    </tr>\n",
       "  </tbody>\n",
       "</table>\n",
       "</div>"
      ],
      "text/plain": [
       "gender                                F         M\n",
       "title                                            \n",
       "$1,000,000 Duck (1971)         3.375000  2.761905\n",
       "'Night Mother (1986)           3.388889  3.352941\n",
       "'Til There Was You (1997)      2.675676  2.733333\n",
       "'burbs, The (1989)             2.793478  2.962085\n",
       "...And Justice for All (1979)  3.828571  3.689024"
      ]
     },
     "execution_count": 222,
     "metadata": {},
     "output_type": "execute_result"
    }
   ],
   "source": [
    "# get mean rating for each movie grouped by gender\n",
    "mean_ratings = data.pivot_table(values='rating', index='title', columns='gender', aggfunc='mean')\n",
    "mean_ratings[:5]"
   ]
  },
  {
   "cell_type": "code",
   "execution_count": 230,
   "metadata": {
    "collapsed": false
   },
   "outputs": [
    {
     "data": {
      "text/plain": [
       "title\n",
       "$1,000,000 Duck (1971)            37\n",
       "'Night Mother (1986)              70\n",
       "'Til There Was You (1997)         52\n",
       "'burbs, The (1989)               303\n",
       "...And Justice for All (1979)    199\n",
       "dtype: int64"
      ]
     },
     "execution_count": 230,
     "metadata": {},
     "output_type": "execute_result"
    }
   ],
   "source": [
    "rating_times = data.groupby('title').size()\n",
    "rating_times[:5]"
   ]
  },
  {
   "cell_type": "code",
   "execution_count": 232,
   "metadata": {
    "collapsed": false
   },
   "outputs": [
    {
     "data": {
      "text/plain": [
       "count    3706.000000\n",
       "mean      269.889099\n",
       "std       384.047838\n",
       "min         1.000000\n",
       "25%        33.000000\n",
       "50%       123.500000\n",
       "75%       350.000000\n",
       "max      3428.000000\n",
       "dtype: float64"
      ]
     },
     "execution_count": 232,
     "metadata": {},
     "output_type": "execute_result"
    }
   ],
   "source": [
    "rating_times.describe()"
   ]
  },
  {
   "cell_type": "code",
   "execution_count": 233,
   "metadata": {
    "collapsed": false
   },
   "outputs": [
    {
     "data": {
      "text/plain": [
       "title\n",
       "'burbs, The (1989)                   303\n",
       "10 Things I Hate About You (1999)    700\n",
       "101 Dalmatians (1961)                565\n",
       "101 Dalmatians (1996)                364\n",
       "12 Angry Men (1957)                  616\n",
       "dtype: int64"
      ]
     },
     "execution_count": 233,
     "metadata": {},
     "output_type": "execute_result"
    }
   ],
   "source": [
    "# so I think we can recognize those movies which has 200-250 rating times as activity/popular movies\n",
    "activity_movie = rating_times[rating_times > 200]\n",
    "activity_movie[:5]"
   ]
  },
  {
   "cell_type": "code",
   "execution_count": 239,
   "metadata": {
    "collapsed": false
   },
   "outputs": [
    {
     "data": {
      "text/html": [
       "<div>\n",
       "<table border=\"1\" class=\"dataframe\">\n",
       "  <thead>\n",
       "    <tr style=\"text-align: right;\">\n",
       "      <th>gender</th>\n",
       "      <th>F</th>\n",
       "      <th>M</th>\n",
       "    </tr>\n",
       "    <tr>\n",
       "      <th>title</th>\n",
       "      <th></th>\n",
       "      <th></th>\n",
       "    </tr>\n",
       "  </thead>\n",
       "  <tbody>\n",
       "    <tr>\n",
       "      <th>'burbs, The (1989)</th>\n",
       "      <td>2.793478</td>\n",
       "      <td>2.962085</td>\n",
       "    </tr>\n",
       "    <tr>\n",
       "      <th>10 Things I Hate About You (1999)</th>\n",
       "      <td>3.646552</td>\n",
       "      <td>3.311966</td>\n",
       "    </tr>\n",
       "    <tr>\n",
       "      <th>101 Dalmatians (1961)</th>\n",
       "      <td>3.791444</td>\n",
       "      <td>3.500000</td>\n",
       "    </tr>\n",
       "    <tr>\n",
       "      <th>101 Dalmatians (1996)</th>\n",
       "      <td>3.240000</td>\n",
       "      <td>2.911215</td>\n",
       "    </tr>\n",
       "    <tr>\n",
       "      <th>12 Angry Men (1957)</th>\n",
       "      <td>4.184397</td>\n",
       "      <td>4.328421</td>\n",
       "    </tr>\n",
       "  </tbody>\n",
       "</table>\n",
       "</div>"
      ],
      "text/plain": [
       "gender                                    F         M\n",
       "title                                                \n",
       "'burbs, The (1989)                 2.793478  2.962085\n",
       "10 Things I Hate About You (1999)  3.646552  3.311966\n",
       "101 Dalmatians (1961)              3.791444  3.500000\n",
       "101 Dalmatians (1996)              3.240000  2.911215\n",
       "12 Angry Men (1957)                4.184397  4.328421"
      ]
     },
     "execution_count": 239,
     "metadata": {},
     "output_type": "execute_result"
    }
   ],
   "source": [
    "active_mean_ratings = mean_ratings.ix[activity_movie.index]\n",
    "active_mean_ratings[:5]"
   ]
  },
  {
   "cell_type": "code",
   "execution_count": 248,
   "metadata": {
    "collapsed": false,
    "scrolled": true
   },
   "outputs": [
    {
     "data": {
      "text/html": [
       "<div>\n",
       "<table border=\"1\" class=\"dataframe\">\n",
       "  <thead>\n",
       "    <tr style=\"text-align: right;\">\n",
       "      <th>gender</th>\n",
       "      <th>F</th>\n",
       "      <th>M</th>\n",
       "    </tr>\n",
       "    <tr>\n",
       "      <th>title</th>\n",
       "      <th></th>\n",
       "      <th></th>\n",
       "    </tr>\n",
       "  </thead>\n",
       "  <tbody>\n",
       "    <tr>\n",
       "      <th>Close Shave, A (1995)</th>\n",
       "      <td>4.644444</td>\n",
       "      <td>4.473795</td>\n",
       "    </tr>\n",
       "    <tr>\n",
       "      <th>Wrong Trousers, The (1993)</th>\n",
       "      <td>4.588235</td>\n",
       "      <td>4.478261</td>\n",
       "    </tr>\n",
       "    <tr>\n",
       "      <th>General, The (1927)</th>\n",
       "      <td>4.575758</td>\n",
       "      <td>4.329480</td>\n",
       "    </tr>\n",
       "    <tr>\n",
       "      <th>Sunset Blvd. (a.k.a. Sunset Boulevard) (1950)</th>\n",
       "      <td>4.572650</td>\n",
       "      <td>4.464589</td>\n",
       "    </tr>\n",
       "    <tr>\n",
       "      <th>Wallace &amp; Gromit: The Best of Aardman Animation (1996)</th>\n",
       "      <td>4.563107</td>\n",
       "      <td>4.385075</td>\n",
       "    </tr>\n",
       "  </tbody>\n",
       "</table>\n",
       "</div>"
      ],
      "text/plain": [
       "gender                                                     F         M\n",
       "title                                                                 \n",
       "Close Shave, A (1995)                               4.644444  4.473795\n",
       "Wrong Trousers, The (1993)                          4.588235  4.478261\n",
       "General, The (1927)                                 4.575758  4.329480\n",
       "Sunset Blvd. (a.k.a. Sunset Boulevard) (1950)       4.572650  4.464589\n",
       "Wallace & Gromit: The Best of Aardman Animation...  4.563107  4.385075"
      ]
     },
     "execution_count": 248,
     "metadata": {},
     "output_type": "execute_result"
    }
   ],
   "source": [
    "# select the top films women most favor\n",
    "top_female_rate_movies = active_mean_ratings.sort_index(by='F', ascending=False)\n",
    "top_female_rate_movies[:5]"
   ]
  },
  {
   "cell_type": "code",
   "execution_count": 249,
   "metadata": {
    "collapsed": false
   },
   "outputs": [
    {
     "data": {
      "text/html": [
       "<div>\n",
       "<table border=\"1\" class=\"dataframe\">\n",
       "  <thead>\n",
       "    <tr style=\"text-align: right;\">\n",
       "      <th>gender</th>\n",
       "      <th>F</th>\n",
       "      <th>M</th>\n",
       "      <th>diff</th>\n",
       "    </tr>\n",
       "    <tr>\n",
       "      <th>title</th>\n",
       "      <th></th>\n",
       "      <th></th>\n",
       "      <th></th>\n",
       "    </tr>\n",
       "  </thead>\n",
       "  <tbody>\n",
       "    <tr>\n",
       "      <th>Dirty Dancing (1987)</th>\n",
       "      <td>3.790378</td>\n",
       "      <td>2.959596</td>\n",
       "      <td>0.830782</td>\n",
       "    </tr>\n",
       "    <tr>\n",
       "      <th>To Wong Foo, Thanks for Everything! Julie Newmar (1995)</th>\n",
       "      <td>3.486842</td>\n",
       "      <td>2.795276</td>\n",
       "      <td>0.691567</td>\n",
       "    </tr>\n",
       "    <tr>\n",
       "      <th>Jumpin' Jack Flash (1986)</th>\n",
       "      <td>3.254717</td>\n",
       "      <td>2.578358</td>\n",
       "      <td>0.676359</td>\n",
       "    </tr>\n",
       "    <tr>\n",
       "      <th>Grease (1978)</th>\n",
       "      <td>3.975265</td>\n",
       "      <td>3.367041</td>\n",
       "      <td>0.608224</td>\n",
       "    </tr>\n",
       "    <tr>\n",
       "      <th>Relic, The (1997)</th>\n",
       "      <td>3.309524</td>\n",
       "      <td>2.723077</td>\n",
       "      <td>0.586447</td>\n",
       "    </tr>\n",
       "  </tbody>\n",
       "</table>\n",
       "</div>"
      ],
      "text/plain": [
       "gender                                                     F         M  \\\n",
       "title                                                                    \n",
       "Dirty Dancing (1987)                                3.790378  2.959596   \n",
       "To Wong Foo, Thanks for Everything! Julie Newma...  3.486842  2.795276   \n",
       "Jumpin' Jack Flash (1986)                           3.254717  2.578358   \n",
       "Grease (1978)                                       3.975265  3.367041   \n",
       "Relic, The (1997)                                   3.309524  2.723077   \n",
       "\n",
       "gender                                                  diff  \n",
       "title                                                         \n",
       "Dirty Dancing (1987)                                0.830782  \n",
       "To Wong Foo, Thanks for Everything! Julie Newma...  0.691567  \n",
       "Jumpin' Jack Flash (1986)                           0.676359  \n",
       "Grease (1978)                                       0.608224  \n",
       "Relic, The (1997)                                   0.586447  "
      ]
     },
     "execution_count": 249,
     "metadata": {},
     "output_type": "execute_result"
    }
   ],
   "source": [
    "# figure out which movies have the most disagreement between men and female\n",
    "active_mean_ratings['diff'] = active_mean_ratings['F'] - active_mean_ratings['M']\n",
    "top_disgreement = active_mean_ratings.sort_index(by='diff', ascending=False)\n",
    "top_disgreement[:5]"
   ]
  },
  {
   "cell_type": "code",
   "execution_count": 253,
   "metadata": {
    "collapsed": false
   },
   "outputs": [
    {
     "data": {
      "text/html": [
       "<div>\n",
       "<table border=\"1\" class=\"dataframe\">\n",
       "  <thead>\n",
       "    <tr style=\"text-align: right;\">\n",
       "      <th>gender</th>\n",
       "      <th>F</th>\n",
       "      <th>M</th>\n",
       "      <th>diff</th>\n",
       "    </tr>\n",
       "    <tr>\n",
       "      <th>title</th>\n",
       "      <th></th>\n",
       "      <th></th>\n",
       "      <th></th>\n",
       "    </tr>\n",
       "  </thead>\n",
       "  <tbody>\n",
       "    <tr>\n",
       "      <th>Good, The Bad and The Ugly, The (1966)</th>\n",
       "      <td>3.494949</td>\n",
       "      <td>4.221300</td>\n",
       "      <td>-0.726351</td>\n",
       "    </tr>\n",
       "    <tr>\n",
       "      <th>Kentucky Fried Movie, The (1977)</th>\n",
       "      <td>2.878788</td>\n",
       "      <td>3.555147</td>\n",
       "      <td>-0.676359</td>\n",
       "    </tr>\n",
       "    <tr>\n",
       "      <th>Up in Smoke (1978)</th>\n",
       "      <td>2.944444</td>\n",
       "      <td>3.585227</td>\n",
       "      <td>-0.640783</td>\n",
       "    </tr>\n",
       "    <tr>\n",
       "      <th>Dumb &amp; Dumber (1994)</th>\n",
       "      <td>2.697987</td>\n",
       "      <td>3.336595</td>\n",
       "      <td>-0.638608</td>\n",
       "    </tr>\n",
       "    <tr>\n",
       "      <th>Longest Day, The (1962)</th>\n",
       "      <td>3.411765</td>\n",
       "      <td>4.031447</td>\n",
       "      <td>-0.619682</td>\n",
       "    </tr>\n",
       "  </tbody>\n",
       "</table>\n",
       "</div>"
      ],
      "text/plain": [
       "gender                                         F         M      diff\n",
       "title                                                               \n",
       "Good, The Bad and The Ugly, The (1966)  3.494949  4.221300 -0.726351\n",
       "Kentucky Fried Movie, The (1977)        2.878788  3.555147 -0.676359\n",
       "Up in Smoke (1978)                      2.944444  3.585227 -0.640783\n",
       "Dumb & Dumber (1994)                    2.697987  3.336595 -0.638608\n",
       "Longest Day, The (1962)                 3.411765  4.031447 -0.619682"
      ]
     },
     "execution_count": 253,
     "metadata": {},
     "output_type": "execute_result"
    }
   ],
   "source": [
    "# get the top list which man like and woman not that like\n",
    "top_disgreement[::-1][:5]"
   ]
  },
  {
   "cell_type": "code",
   "execution_count": 255,
   "metadata": {
    "collapsed": false
   },
   "outputs": [
    {
     "data": {
      "text/plain": [
       "title\n",
       "$1,000,000 Duck (1971)           1.092563\n",
       "'Night Mother (1986)             1.118636\n",
       "'Til There Was You (1997)        1.020159\n",
       "'burbs, The (1989)               1.107760\n",
       "...And Justice for All (1979)    0.878110\n",
       "Name: rating, dtype: float64"
      ]
     },
     "execution_count": 255,
     "metadata": {},
     "output_type": "execute_result"
    }
   ],
   "source": [
    "### Most disagreement among views, independent of gender, can use variance of std\n",
    "rating_std = data.groupby('title')['rating'].std()\n",
    "rating_std[:5]"
   ]
  },
  {
   "cell_type": "code",
   "execution_count": 260,
   "metadata": {
    "collapsed": false
   },
   "outputs": [
    {
     "data": {
      "text/plain": [
       "title\n",
       "Plan 9 from Outer Space (1958)         1.455998\n",
       "Texas Chainsaw Massacre, The (1974)    1.332448\n",
       "Dumb & Dumber (1994)                   1.321333\n",
       "Blair Witch Project, The (1999)        1.316368\n",
       "Natural Born Killers (1994)            1.307198\n",
       "Name: rating, dtype: float64"
      ]
     },
     "execution_count": 260,
     "metadata": {},
     "output_type": "execute_result"
    }
   ],
   "source": [
    "rating_std[activity_movie.index].order(ascending=False)[:5]"
   ]
  },
  {
   "cell_type": "markdown",
   "metadata": {},
   "source": [
    "### U.S. Baby Names from 1880 to 2014\n",
    "\n",
    "Dataset from [http://www.ssa.gov/oact/babynames/limits.html](http://www.ssa.gov/oact/babynames/limits.html)"
   ]
  },
  {
   "cell_type": "code",
   "execution_count": 5,
   "metadata": {
    "collapsed": false
   },
   "outputs": [
    {
     "name": "stdout",
     "output_type": "stream",
     "text": [
      "Isabella  F  22731\r",
      "\r\n",
      "Sophia    F  20477\r",
      "\r\n",
      "Emma      F  17179\r",
      "\r\n",
      "Olivia    F  16860\r",
      "\r\n",
      "Ava       F  15300\r",
      "\r\n"
     ]
    }
   ],
   "source": [
    "!head -5 'ch02/names/yob2010.txt' | column -t -s ','"
   ]
  },
  {
   "cell_type": "code",
   "execution_count": 7,
   "metadata": {
    "collapsed": false
   },
   "outputs": [],
   "source": [
    "# build all the name dataset in one dataframe\n",
    "\n",
    "def get_dataset():\n",
    "    years = range(1880, 2011)\n",
    "    pieces = []\n",
    "    columns = ['name', 'gender', 'births']\n",
    "\n",
    "    for year in years:\n",
    "        path = 'ch02/names/yob{}.txt'.format(year)\n",
    "        frame = pd.read_csv(path, names=columns)\n",
    "        frame['year'] = year\n",
    "        pieces.append(frame)\n",
    "        # concatenate into a single dataframe\n",
    "    names = pd.concat(pieces, ignore_index=True)\n",
    "        \n",
    "    return names"
   ]
  },
  {
   "cell_type": "code",
   "execution_count": 8,
   "metadata": {
    "collapsed": true
   },
   "outputs": [],
   "source": [
    "names = get_dataset()"
   ]
  },
  {
   "cell_type": "code",
   "execution_count": 10,
   "metadata": {
    "collapsed": false
   },
   "outputs": [
    {
     "data": {
      "text/html": [
       "<div>\n",
       "<table border=\"1\" class=\"dataframe\">\n",
       "  <thead>\n",
       "    <tr style=\"text-align: right;\">\n",
       "      <th></th>\n",
       "      <th>name</th>\n",
       "      <th>gender</th>\n",
       "      <th>births</th>\n",
       "      <th>year</th>\n",
       "    </tr>\n",
       "  </thead>\n",
       "  <tbody>\n",
       "    <tr>\n",
       "      <th>0</th>\n",
       "      <td>Mary</td>\n",
       "      <td>F</td>\n",
       "      <td>7065</td>\n",
       "      <td>1880</td>\n",
       "    </tr>\n",
       "    <tr>\n",
       "      <th>1</th>\n",
       "      <td>Anna</td>\n",
       "      <td>F</td>\n",
       "      <td>2604</td>\n",
       "      <td>1880</td>\n",
       "    </tr>\n",
       "    <tr>\n",
       "      <th>2</th>\n",
       "      <td>Emma</td>\n",
       "      <td>F</td>\n",
       "      <td>2003</td>\n",
       "      <td>1880</td>\n",
       "    </tr>\n",
       "    <tr>\n",
       "      <th>3</th>\n",
       "      <td>Elizabeth</td>\n",
       "      <td>F</td>\n",
       "      <td>1939</td>\n",
       "      <td>1880</td>\n",
       "    </tr>\n",
       "    <tr>\n",
       "      <th>4</th>\n",
       "      <td>Minnie</td>\n",
       "      <td>F</td>\n",
       "      <td>1746</td>\n",
       "      <td>1880</td>\n",
       "    </tr>\n",
       "  </tbody>\n",
       "</table>\n",
       "</div>"
      ],
      "text/plain": [
       "        name gender  births  year\n",
       "0       Mary      F    7065  1880\n",
       "1       Anna      F    2604  1880\n",
       "2       Emma      F    2003  1880\n",
       "3  Elizabeth      F    1939  1880\n",
       "4     Minnie      F    1746  1880"
      ]
     },
     "execution_count": 10,
     "metadata": {},
     "output_type": "execute_result"
    }
   ],
   "source": [
    "names.head(5)"
   ]
  },
  {
   "cell_type": "code",
   "execution_count": 13,
   "metadata": {
    "collapsed": false
   },
   "outputs": [],
   "source": [
    "# pivot according to year and gender\n",
    "total_birth = names.pivot_table('births', index='year', columns='gender', aggfunc=sum)"
   ]
  },
  {
   "cell_type": "code",
   "execution_count": 14,
   "metadata": {
    "collapsed": false
   },
   "outputs": [
    {
     "data": {
      "text/html": [
       "<div>\n",
       "<table border=\"1\" class=\"dataframe\">\n",
       "  <thead>\n",
       "    <tr style=\"text-align: right;\">\n",
       "      <th>gender</th>\n",
       "      <th>F</th>\n",
       "      <th>M</th>\n",
       "    </tr>\n",
       "    <tr>\n",
       "      <th>year</th>\n",
       "      <th></th>\n",
       "      <th></th>\n",
       "    </tr>\n",
       "  </thead>\n",
       "  <tbody>\n",
       "    <tr>\n",
       "      <th>1880</th>\n",
       "      <td>90993</td>\n",
       "      <td>110493</td>\n",
       "    </tr>\n",
       "    <tr>\n",
       "      <th>1881</th>\n",
       "      <td>91955</td>\n",
       "      <td>100748</td>\n",
       "    </tr>\n",
       "    <tr>\n",
       "      <th>1882</th>\n",
       "      <td>107851</td>\n",
       "      <td>113687</td>\n",
       "    </tr>\n",
       "    <tr>\n",
       "      <th>1883</th>\n",
       "      <td>112322</td>\n",
       "      <td>104632</td>\n",
       "    </tr>\n",
       "    <tr>\n",
       "      <th>1884</th>\n",
       "      <td>129021</td>\n",
       "      <td>114445</td>\n",
       "    </tr>\n",
       "  </tbody>\n",
       "</table>\n",
       "</div>"
      ],
      "text/plain": [
       "gender       F       M\n",
       "year                  \n",
       "1880     90993  110493\n",
       "1881     91955  100748\n",
       "1882    107851  113687\n",
       "1883    112322  104632\n",
       "1884    129021  114445"
      ]
     },
     "execution_count": 14,
     "metadata": {},
     "output_type": "execute_result"
    }
   ],
   "source": [
    "total_birth.head(5)"
   ]
  },
  {
   "cell_type": "code",
   "execution_count": 18,
   "metadata": {
    "collapsed": false
   },
   "outputs": [
    {
     "data": {
      "text/html": [
       "\n",
       "\n",
       "<style>\n",
       "\n",
       "</style>\n",
       "\n",
       "<div id=\"fig_el92947631844006021388307\"></div>\n",
       "<script>\n",
       "function mpld3_load_lib(url, callback){\n",
       "  var s = document.createElement('script');\n",
       "  s.src = url;\n",
       "  s.async = true;\n",
       "  s.onreadystatechange = s.onload = callback;\n",
       "  s.onerror = function(){console.warn(\"failed to load library \" + url);};\n",
       "  document.getElementsByTagName(\"head\")[0].appendChild(s);\n",
       "}\n",
       "\n",
       "if(typeof(mpld3) !== \"undefined\" && mpld3._mpld3IsLoaded){\n",
       "   // already loaded: just create the figure\n",
       "   !function(mpld3){\n",
       "       \n",
       "       mpld3.draw_figure(\"fig_el92947631844006021388307\", {\"axes\": [{\"xlim\": [1880.0, 2010.0], \"yscale\": \"linear\", \"axesbg\": \"#EAEAF2\", \"texts\": [{\"v_baseline\": \"hanging\", \"h_anchor\": \"middle\", \"color\": \"#262626\", \"text\": \"year\", \"coordinates\": \"axes\", \"zorder\": 3, \"alpha\": 1, \"fontsize\": 11.0, \"position\": [0.5, -0.075268817204301078], \"rotation\": -0.0, \"id\": \"el9294763060944\"}, {\"v_baseline\": \"auto\", \"h_anchor\": \"middle\", \"color\": \"#262626\", \"text\": \"Total birth number of each year\", \"coordinates\": \"axes\", \"zorder\": 3, \"alpha\": 1, \"fontsize\": 12.0, \"position\": [0.5, 1.0179211469534051], \"rotation\": -0.0, \"id\": \"el9294510591504\"}, {\"v_baseline\": \"auto\", \"h_anchor\": \"start\", \"color\": \"#262626\", \"text\": \"gender\", \"coordinates\": \"axes\", \"zorder\": 1000003.0, \"alpha\": 1, \"fontsize\": 10.0, \"position\": [0.01612903225806453, 0.94193548387096782], \"rotation\": -0.0, \"id\": \"el9294510683600\"}, {\"v_baseline\": \"auto\", \"h_anchor\": \"start\", \"color\": \"#262626\", \"text\": \"F\", \"coordinates\": \"axes\", \"zorder\": 1000003.0, \"alpha\": 1, \"fontsize\": 10.0, \"position\": [0.06676047267025087, 0.89175627240143374], \"rotation\": -0.0, \"id\": \"el9294510666256\"}, {\"v_baseline\": \"auto\", \"h_anchor\": \"start\", \"color\": \"#262626\", \"text\": \"M\", \"coordinates\": \"axes\", \"zorder\": 1000003.0, \"alpha\": 1, \"fontsize\": 10.0, \"position\": [0.06676047267025087, 0.84157706093189966], \"rotation\": -0.0, \"id\": \"el9294510676880\"}], \"zoomable\": true, \"images\": [], \"xdomain\": [1880.0, 2010.0], \"ylim\": [0.0, 2500000.0], \"paths\": [{\"edgecolor\": \"#FFFFFF\", \"facecolor\": \"#EAEAF2\", \"edgewidth\": 0.3, \"pathcodes\": [\"M\", \"L\", \"L\", \"L\", \"L\", \"Z\"], \"yindex\": 1, \"coordinates\": \"axes\", \"dasharray\": \"10,0\", \"zorder\": 1000001.0, \"alpha\": 1, \"xindex\": 0, \"data\": \"data03\", \"id\": \"el9294510665808\"}], \"sharey\": [], \"sharex\": [], \"axesbgalpha\": null, \"axes\": [{\"scale\": \"linear\", \"tickformat\": null, \"grid\": {\"color\": \"#FFFFFF\", \"alpha\": 1.0, \"dasharray\": \"10,0\", \"gridOn\": true}, \"fontsize\": 10.0, \"position\": \"bottom\", \"nticks\": 8, \"tickvalues\": null}, {\"scale\": \"linear\", \"tickformat\": null, \"grid\": {\"color\": \"#FFFFFF\", \"alpha\": 1.0, \"dasharray\": \"10,0\", \"gridOn\": true}, \"fontsize\": 10.0, \"position\": \"left\", \"nticks\": 6, \"tickvalues\": null}], \"lines\": [{\"color\": \"#4C72B0\", \"yindex\": 1, \"coordinates\": \"data\", \"dasharray\": \"10,0\", \"zorder\": 2, \"alpha\": 1, \"xindex\": 0, \"linewidth\": 1.75, \"data\": \"data01\", \"id\": \"el9294510645840\"}, {\"color\": \"#55A868\", \"yindex\": 2, \"coordinates\": \"data\", \"dasharray\": \"10,0\", \"zorder\": 2, \"alpha\": 1, \"xindex\": 0, \"linewidth\": 1.75, \"data\": \"data01\", \"id\": \"el9294510664144\"}, {\"color\": \"#4C72B0\", \"yindex\": 1, \"coordinates\": \"axes\", \"dasharray\": \"10,0\", \"zorder\": 1000002.0, \"alpha\": 1, \"xindex\": 0, \"linewidth\": 1.75, \"data\": \"data02\", \"id\": \"el9294510675408\"}, {\"color\": \"#55A868\", \"yindex\": 2, \"coordinates\": \"axes\", \"dasharray\": \"10,0\", \"zorder\": 1000002.0, \"alpha\": 1, \"xindex\": 0, \"linewidth\": 1.75, \"data\": \"data02\", \"id\": \"el9294510677776\"}], \"markers\": [], \"id\": \"el9294610525136\", \"ydomain\": [0.0, 2500000.0], \"collections\": [], \"xscale\": \"linear\", \"bbox\": [0.125, 0.125, 0.77500000000000002, 0.77500000000000002]}], \"height\": 400.0, \"width\": 800.0, \"plugins\": [{\"type\": \"reset\"}, {\"enabled\": false, \"button\": true, \"type\": \"zoom\"}, {\"enabled\": false, \"button\": true, \"type\": \"boxzoom\"}], \"data\": {\"data02\": [[0.016581261200716846, 0.9043010752688172, 0.8541218637992831], [0.05242355510752688, 0.9043010752688172, 0.8541218637992831]], \"data03\": [[0.00896057347670251, 0.8207885304659499], [0.08637712813620074, 0.8207885304659499], [0.08637712813620074, 0.982078853046595], [0.00896057347670251, 0.982078853046595], [0.00896057347670251, 0.8207885304659499]], \"data01\": [[1880.0, 90993.0, 110493.0], [1881.0, 91955.0, 100748.0], [1882.0, 107851.0, 113687.0], [1883.0, 112322.0, 104632.0], [1884.0, 129021.0, 114445.0], [1885.0, 133056.0, 107802.0], [1886.0, 144538.0, 110785.0], [1887.0, 145983.0, 101412.0], [1888.0, 178631.0, 120857.0], [1889.0, 178369.0, 110590.0], [1890.0, 190377.0, 111026.0], [1891.0, 185486.0, 101198.0], [1892.0, 212350.0, 122038.0], [1893.0, 212908.0, 112319.0], [1894.0, 222923.0, 115775.0], [1895.0, 233632.0, 117398.0], [1896.0, 237924.0, 119575.0], [1897.0, 234199.0, 112760.0], [1898.0, 258771.0, 122703.0], [1899.0, 233022.0, 106218.0], [1900.0, 299873.0, 150554.0], [1901.0, 239351.0, 106478.0], [1902.0, 264079.0, 122660.0], [1903.0, 261976.0, 119240.0], [1904.0, 275375.0, 128129.0], [1905.0, 291641.0, 132319.0], [1906.0, 295301.0, 133159.0], [1907.0, 318558.0, 146838.0], [1908.0, 334277.0, 154339.0], [1909.0, 347191.0, 163983.0], [1910.0, 396416.0, 194198.0], [1911.0, 418180.0, 225936.0], [1912.0, 557939.0, 429926.0], [1913.0, 624317.0, 512482.0], [1914.0, 761376.0, 654746.0], [1915.0, 983824.0, 848647.0], [1916.0, 1044249.0, 890142.0], [1917.0, 1081194.0, 925512.0], [1918.0, 1157585.0, 1013720.0], [1919.0, 1130149.0, 980215.0], [1920.0, 1198214.0, 1064468.0], [1921.0, 1232845.0, 1101374.0], [1922.0, 1200796.0, 1088380.0], [1923.0, 1206239.0, 1096227.0], [1924.0, 1248821.0, 1132671.0], [1925.0, 1217217.0, 1115798.0], [1926.0, 1185078.0, 1110440.0], [1927.0, 1192207.0, 1126259.0], [1928.0, 1152836.0, 1107113.0], [1929.0, 1116284.0, 1074833.0], [1930.0, 1125521.0, 1096663.0], [1931.0, 1064233.0, 1038586.0], [1932.0, 1066930.0, 1043512.0], [1933.0, 1007523.0, 990677.0], [1934.0, 1043879.0, 1031962.0], [1935.0, 1048264.0, 1040649.0], [1936.0, 1040068.0, 1036662.0], [1937.0, 1063722.0, 1065964.0], [1938.0, 1103173.0, 1108480.0], [1939.0, 1096394.0, 1106328.0], [1940.0, 1143281.0, 1158668.0], [1941.0, 1207799.0, 1227621.0], [1942.0, 1350524.0, 1380468.0], [1943.0, 1394891.0, 1426400.0], [1944.0, 1327077.0, 1362379.0], [1945.0, 1307299.0, 1346227.0], [1946.0, 1570555.0, 1622540.0], [1947.0, 1772246.0, 1827415.0], [1948.0, 1697664.0, 1753472.0], [1949.0, 1709607.0, 1770104.0], [1950.0, 1713001.0, 1789936.0], [1951.0, 1798537.0, 1877553.0], [1952.0, 1854427.0, 1943533.0], [1953.0, 1880072.0, 1968772.0], [1954.0, 1941562.0, 2036948.0], [1955.0, 1954508.0, 2057390.0], [1956.0, 2007416.0, 2113067.0], [1957.0, 2043983.0, 2155427.0], [1958.0, 2010620.0, 2120014.0], [1959.0, 2022889.0, 2133147.0], [1960.0, 2022062.0, 2132588.0], [1961.0, 2016762.0, 2121629.0], [1962.0, 1966340.0, 2068493.0], [1963.0, 1927055.0, 2031443.0], [1964.0, 1894277.0, 1992762.0], [1965.0, 1764815.0, 1861138.0], [1966.0, 1691650.0, 1783577.0], [1967.0, 1650576.0, 1744222.0], [1968.0, 1639977.0, 1738585.0], [1969.0, 1686705.0, 1789326.0], [1970.0, 1747811.0, 1858782.0], [1971.0, 1663043.0, 1768325.0], [1972.0, 1521044.0, 1622178.0], [1973.0, 1457913.0, 1558562.0], [1974.0, 1467227.0, 1572415.0], [1975.0, 1457349.0, 1561378.0], [1976.0, 1464852.0, 1569098.0], [1977.0, 1532574.0, 1642747.0], [1978.0, 1531242.0, 1641143.0], [1979.0, 1604588.0, 1720781.0], [1980.0, 1659259.0, 1782388.0], [1981.0, 1666833.0, 1789568.0], [1982.0, 1692036.0, 1812642.0], [1983.0, 1669486.0, 1790670.0], [1984.0, 1682396.0, 1802735.0], [1985.0, 1719450.0, 1846162.0], [1986.0, 1714053.0, 1839442.0], [1987.0, 1737508.0, 1865113.0], [1988.0, 1779112.0, 1911858.0], [1989.0, 1843057.0, 1999840.0], [1990.0, 1897256.0, 2052070.0], [1991.0, 1874110.0, 2019018.0], [1992.0, 1842818.0, 1995760.0], [1993.0, 1807795.0, 1959712.0], [1994.0, 1784407.0, 1930363.0], [1995.0, 1757240.0, 1902100.0], [1996.0, 1751681.0, 1892700.0], [1997.0, 1739331.0, 1883571.0], [1998.0, 1765390.0, 1909676.0], [1999.0, 1772139.0, 1918267.0], [2000.0, 1813960.0, 1961702.0], [2001.0, 1798284.0, 1940498.0], [2002.0, 1794358.0, 1938941.0], [2003.0, 1824406.0, 1972439.0], [2004.0, 1833005.0, 1981557.0], [2005.0, 1843890.0, 1993285.0], [2006.0, 1896468.0, 2050234.0], [2007.0, 1916888.0, 2069242.0], [2008.0, 1883645.0, 2032310.0], [2009.0, 1827643.0, 1973359.0], [2010.0, 1759010.0, 1898382.0]]}, \"id\": \"el9294763184400\"});\n",
       "   }(mpld3);\n",
       "}else if(typeof define === \"function\" && define.amd){\n",
       "   // require.js is available: use it to load d3/mpld3\n",
       "   require.config({paths: {d3: \"https://mpld3.github.io/js/d3.v3.min\"}});\n",
       "   require([\"d3\"], function(d3){\n",
       "      window.d3 = d3;\n",
       "      mpld3_load_lib(\"https://mpld3.github.io/js/mpld3.v0.2.js\", function(){\n",
       "         \n",
       "         mpld3.draw_figure(\"fig_el92947631844006021388307\", {\"axes\": [{\"xlim\": [1880.0, 2010.0], \"yscale\": \"linear\", \"axesbg\": \"#EAEAF2\", \"texts\": [{\"v_baseline\": \"hanging\", \"h_anchor\": \"middle\", \"color\": \"#262626\", \"text\": \"year\", \"coordinates\": \"axes\", \"zorder\": 3, \"alpha\": 1, \"fontsize\": 11.0, \"position\": [0.5, -0.075268817204301078], \"rotation\": -0.0, \"id\": \"el9294763060944\"}, {\"v_baseline\": \"auto\", \"h_anchor\": \"middle\", \"color\": \"#262626\", \"text\": \"Total birth number of each year\", \"coordinates\": \"axes\", \"zorder\": 3, \"alpha\": 1, \"fontsize\": 12.0, \"position\": [0.5, 1.0179211469534051], \"rotation\": -0.0, \"id\": \"el9294510591504\"}, {\"v_baseline\": \"auto\", \"h_anchor\": \"start\", \"color\": \"#262626\", \"text\": \"gender\", \"coordinates\": \"axes\", \"zorder\": 1000003.0, \"alpha\": 1, \"fontsize\": 10.0, \"position\": [0.01612903225806453, 0.94193548387096782], \"rotation\": -0.0, \"id\": \"el9294510683600\"}, {\"v_baseline\": \"auto\", \"h_anchor\": \"start\", \"color\": \"#262626\", \"text\": \"F\", \"coordinates\": \"axes\", \"zorder\": 1000003.0, \"alpha\": 1, \"fontsize\": 10.0, \"position\": [0.06676047267025087, 0.89175627240143374], \"rotation\": -0.0, \"id\": \"el9294510666256\"}, {\"v_baseline\": \"auto\", \"h_anchor\": \"start\", \"color\": \"#262626\", \"text\": \"M\", \"coordinates\": \"axes\", \"zorder\": 1000003.0, \"alpha\": 1, \"fontsize\": 10.0, \"position\": [0.06676047267025087, 0.84157706093189966], \"rotation\": -0.0, \"id\": \"el9294510676880\"}], \"zoomable\": true, \"images\": [], \"xdomain\": [1880.0, 2010.0], \"ylim\": [0.0, 2500000.0], \"paths\": [{\"edgecolor\": \"#FFFFFF\", \"facecolor\": \"#EAEAF2\", \"edgewidth\": 0.3, \"pathcodes\": [\"M\", \"L\", \"L\", \"L\", \"L\", \"Z\"], \"yindex\": 1, \"coordinates\": \"axes\", \"dasharray\": \"10,0\", \"zorder\": 1000001.0, \"alpha\": 1, \"xindex\": 0, \"data\": \"data03\", \"id\": \"el9294510665808\"}], \"sharey\": [], \"sharex\": [], \"axesbgalpha\": null, \"axes\": [{\"scale\": \"linear\", \"tickformat\": null, \"grid\": {\"color\": \"#FFFFFF\", \"alpha\": 1.0, \"dasharray\": \"10,0\", \"gridOn\": true}, \"fontsize\": 10.0, \"position\": \"bottom\", \"nticks\": 8, \"tickvalues\": null}, {\"scale\": \"linear\", \"tickformat\": null, \"grid\": {\"color\": \"#FFFFFF\", \"alpha\": 1.0, \"dasharray\": \"10,0\", \"gridOn\": true}, \"fontsize\": 10.0, \"position\": \"left\", \"nticks\": 6, \"tickvalues\": null}], \"lines\": [{\"color\": \"#4C72B0\", \"yindex\": 1, \"coordinates\": \"data\", \"dasharray\": \"10,0\", \"zorder\": 2, \"alpha\": 1, \"xindex\": 0, \"linewidth\": 1.75, \"data\": \"data01\", \"id\": \"el9294510645840\"}, {\"color\": \"#55A868\", \"yindex\": 2, \"coordinates\": \"data\", \"dasharray\": \"10,0\", \"zorder\": 2, \"alpha\": 1, \"xindex\": 0, \"linewidth\": 1.75, \"data\": \"data01\", \"id\": \"el9294510664144\"}, {\"color\": \"#4C72B0\", \"yindex\": 1, \"coordinates\": \"axes\", \"dasharray\": \"10,0\", \"zorder\": 1000002.0, \"alpha\": 1, \"xindex\": 0, \"linewidth\": 1.75, \"data\": \"data02\", \"id\": \"el9294510675408\"}, {\"color\": \"#55A868\", \"yindex\": 2, \"coordinates\": \"axes\", \"dasharray\": \"10,0\", \"zorder\": 1000002.0, \"alpha\": 1, \"xindex\": 0, \"linewidth\": 1.75, \"data\": \"data02\", \"id\": \"el9294510677776\"}], \"markers\": [], \"id\": \"el9294610525136\", \"ydomain\": [0.0, 2500000.0], \"collections\": [], \"xscale\": \"linear\", \"bbox\": [0.125, 0.125, 0.77500000000000002, 0.77500000000000002]}], \"height\": 400.0, \"width\": 800.0, \"plugins\": [{\"type\": \"reset\"}, {\"enabled\": false, \"button\": true, \"type\": \"zoom\"}, {\"enabled\": false, \"button\": true, \"type\": \"boxzoom\"}], \"data\": {\"data02\": [[0.016581261200716846, 0.9043010752688172, 0.8541218637992831], [0.05242355510752688, 0.9043010752688172, 0.8541218637992831]], \"data03\": [[0.00896057347670251, 0.8207885304659499], [0.08637712813620074, 0.8207885304659499], [0.08637712813620074, 0.982078853046595], [0.00896057347670251, 0.982078853046595], [0.00896057347670251, 0.8207885304659499]], \"data01\": [[1880.0, 90993.0, 110493.0], [1881.0, 91955.0, 100748.0], [1882.0, 107851.0, 113687.0], [1883.0, 112322.0, 104632.0], [1884.0, 129021.0, 114445.0], [1885.0, 133056.0, 107802.0], [1886.0, 144538.0, 110785.0], [1887.0, 145983.0, 101412.0], [1888.0, 178631.0, 120857.0], [1889.0, 178369.0, 110590.0], [1890.0, 190377.0, 111026.0], [1891.0, 185486.0, 101198.0], [1892.0, 212350.0, 122038.0], [1893.0, 212908.0, 112319.0], [1894.0, 222923.0, 115775.0], [1895.0, 233632.0, 117398.0], [1896.0, 237924.0, 119575.0], [1897.0, 234199.0, 112760.0], [1898.0, 258771.0, 122703.0], [1899.0, 233022.0, 106218.0], [1900.0, 299873.0, 150554.0], [1901.0, 239351.0, 106478.0], [1902.0, 264079.0, 122660.0], [1903.0, 261976.0, 119240.0], [1904.0, 275375.0, 128129.0], [1905.0, 291641.0, 132319.0], [1906.0, 295301.0, 133159.0], [1907.0, 318558.0, 146838.0], [1908.0, 334277.0, 154339.0], [1909.0, 347191.0, 163983.0], [1910.0, 396416.0, 194198.0], [1911.0, 418180.0, 225936.0], [1912.0, 557939.0, 429926.0], [1913.0, 624317.0, 512482.0], [1914.0, 761376.0, 654746.0], [1915.0, 983824.0, 848647.0], [1916.0, 1044249.0, 890142.0], [1917.0, 1081194.0, 925512.0], [1918.0, 1157585.0, 1013720.0], [1919.0, 1130149.0, 980215.0], [1920.0, 1198214.0, 1064468.0], [1921.0, 1232845.0, 1101374.0], [1922.0, 1200796.0, 1088380.0], [1923.0, 1206239.0, 1096227.0], [1924.0, 1248821.0, 1132671.0], [1925.0, 1217217.0, 1115798.0], [1926.0, 1185078.0, 1110440.0], [1927.0, 1192207.0, 1126259.0], [1928.0, 1152836.0, 1107113.0], [1929.0, 1116284.0, 1074833.0], [1930.0, 1125521.0, 1096663.0], [1931.0, 1064233.0, 1038586.0], [1932.0, 1066930.0, 1043512.0], [1933.0, 1007523.0, 990677.0], [1934.0, 1043879.0, 1031962.0], [1935.0, 1048264.0, 1040649.0], [1936.0, 1040068.0, 1036662.0], [1937.0, 1063722.0, 1065964.0], [1938.0, 1103173.0, 1108480.0], [1939.0, 1096394.0, 1106328.0], [1940.0, 1143281.0, 1158668.0], [1941.0, 1207799.0, 1227621.0], [1942.0, 1350524.0, 1380468.0], [1943.0, 1394891.0, 1426400.0], [1944.0, 1327077.0, 1362379.0], [1945.0, 1307299.0, 1346227.0], [1946.0, 1570555.0, 1622540.0], [1947.0, 1772246.0, 1827415.0], [1948.0, 1697664.0, 1753472.0], [1949.0, 1709607.0, 1770104.0], [1950.0, 1713001.0, 1789936.0], [1951.0, 1798537.0, 1877553.0], [1952.0, 1854427.0, 1943533.0], [1953.0, 1880072.0, 1968772.0], [1954.0, 1941562.0, 2036948.0], [1955.0, 1954508.0, 2057390.0], [1956.0, 2007416.0, 2113067.0], [1957.0, 2043983.0, 2155427.0], [1958.0, 2010620.0, 2120014.0], [1959.0, 2022889.0, 2133147.0], [1960.0, 2022062.0, 2132588.0], [1961.0, 2016762.0, 2121629.0], [1962.0, 1966340.0, 2068493.0], [1963.0, 1927055.0, 2031443.0], [1964.0, 1894277.0, 1992762.0], [1965.0, 1764815.0, 1861138.0], [1966.0, 1691650.0, 1783577.0], [1967.0, 1650576.0, 1744222.0], [1968.0, 1639977.0, 1738585.0], [1969.0, 1686705.0, 1789326.0], [1970.0, 1747811.0, 1858782.0], [1971.0, 1663043.0, 1768325.0], [1972.0, 1521044.0, 1622178.0], [1973.0, 1457913.0, 1558562.0], [1974.0, 1467227.0, 1572415.0], [1975.0, 1457349.0, 1561378.0], [1976.0, 1464852.0, 1569098.0], [1977.0, 1532574.0, 1642747.0], [1978.0, 1531242.0, 1641143.0], [1979.0, 1604588.0, 1720781.0], [1980.0, 1659259.0, 1782388.0], [1981.0, 1666833.0, 1789568.0], [1982.0, 1692036.0, 1812642.0], [1983.0, 1669486.0, 1790670.0], [1984.0, 1682396.0, 1802735.0], [1985.0, 1719450.0, 1846162.0], [1986.0, 1714053.0, 1839442.0], [1987.0, 1737508.0, 1865113.0], [1988.0, 1779112.0, 1911858.0], [1989.0, 1843057.0, 1999840.0], [1990.0, 1897256.0, 2052070.0], [1991.0, 1874110.0, 2019018.0], [1992.0, 1842818.0, 1995760.0], [1993.0, 1807795.0, 1959712.0], [1994.0, 1784407.0, 1930363.0], [1995.0, 1757240.0, 1902100.0], [1996.0, 1751681.0, 1892700.0], [1997.0, 1739331.0, 1883571.0], [1998.0, 1765390.0, 1909676.0], [1999.0, 1772139.0, 1918267.0], [2000.0, 1813960.0, 1961702.0], [2001.0, 1798284.0, 1940498.0], [2002.0, 1794358.0, 1938941.0], [2003.0, 1824406.0, 1972439.0], [2004.0, 1833005.0, 1981557.0], [2005.0, 1843890.0, 1993285.0], [2006.0, 1896468.0, 2050234.0], [2007.0, 1916888.0, 2069242.0], [2008.0, 1883645.0, 2032310.0], [2009.0, 1827643.0, 1973359.0], [2010.0, 1759010.0, 1898382.0]]}, \"id\": \"el9294763184400\"});\n",
       "      });\n",
       "    });\n",
       "}else{\n",
       "    // require.js not available: dynamically load d3 & mpld3\n",
       "    mpld3_load_lib(\"https://mpld3.github.io/js/d3.v3.min.js\", function(){\n",
       "         mpld3_load_lib(\"https://mpld3.github.io/js/mpld3.v0.2.js\", function(){\n",
       "                 \n",
       "                 mpld3.draw_figure(\"fig_el92947631844006021388307\", {\"axes\": [{\"xlim\": [1880.0, 2010.0], \"yscale\": \"linear\", \"axesbg\": \"#EAEAF2\", \"texts\": [{\"v_baseline\": \"hanging\", \"h_anchor\": \"middle\", \"color\": \"#262626\", \"text\": \"year\", \"coordinates\": \"axes\", \"zorder\": 3, \"alpha\": 1, \"fontsize\": 11.0, \"position\": [0.5, -0.075268817204301078], \"rotation\": -0.0, \"id\": \"el9294763060944\"}, {\"v_baseline\": \"auto\", \"h_anchor\": \"middle\", \"color\": \"#262626\", \"text\": \"Total birth number of each year\", \"coordinates\": \"axes\", \"zorder\": 3, \"alpha\": 1, \"fontsize\": 12.0, \"position\": [0.5, 1.0179211469534051], \"rotation\": -0.0, \"id\": \"el9294510591504\"}, {\"v_baseline\": \"auto\", \"h_anchor\": \"start\", \"color\": \"#262626\", \"text\": \"gender\", \"coordinates\": \"axes\", \"zorder\": 1000003.0, \"alpha\": 1, \"fontsize\": 10.0, \"position\": [0.01612903225806453, 0.94193548387096782], \"rotation\": -0.0, \"id\": \"el9294510683600\"}, {\"v_baseline\": \"auto\", \"h_anchor\": \"start\", \"color\": \"#262626\", \"text\": \"F\", \"coordinates\": \"axes\", \"zorder\": 1000003.0, \"alpha\": 1, \"fontsize\": 10.0, \"position\": [0.06676047267025087, 0.89175627240143374], \"rotation\": -0.0, \"id\": \"el9294510666256\"}, {\"v_baseline\": \"auto\", \"h_anchor\": \"start\", \"color\": \"#262626\", \"text\": \"M\", \"coordinates\": \"axes\", \"zorder\": 1000003.0, \"alpha\": 1, \"fontsize\": 10.0, \"position\": [0.06676047267025087, 0.84157706093189966], \"rotation\": -0.0, \"id\": \"el9294510676880\"}], \"zoomable\": true, \"images\": [], \"xdomain\": [1880.0, 2010.0], \"ylim\": [0.0, 2500000.0], \"paths\": [{\"edgecolor\": \"#FFFFFF\", \"facecolor\": \"#EAEAF2\", \"edgewidth\": 0.3, \"pathcodes\": [\"M\", \"L\", \"L\", \"L\", \"L\", \"Z\"], \"yindex\": 1, \"coordinates\": \"axes\", \"dasharray\": \"10,0\", \"zorder\": 1000001.0, \"alpha\": 1, \"xindex\": 0, \"data\": \"data03\", \"id\": \"el9294510665808\"}], \"sharey\": [], \"sharex\": [], \"axesbgalpha\": null, \"axes\": [{\"scale\": \"linear\", \"tickformat\": null, \"grid\": {\"color\": \"#FFFFFF\", \"alpha\": 1.0, \"dasharray\": \"10,0\", \"gridOn\": true}, \"fontsize\": 10.0, \"position\": \"bottom\", \"nticks\": 8, \"tickvalues\": null}, {\"scale\": \"linear\", \"tickformat\": null, \"grid\": {\"color\": \"#FFFFFF\", \"alpha\": 1.0, \"dasharray\": \"10,0\", \"gridOn\": true}, \"fontsize\": 10.0, \"position\": \"left\", \"nticks\": 6, \"tickvalues\": null}], \"lines\": [{\"color\": \"#4C72B0\", \"yindex\": 1, \"coordinates\": \"data\", \"dasharray\": \"10,0\", \"zorder\": 2, \"alpha\": 1, \"xindex\": 0, \"linewidth\": 1.75, \"data\": \"data01\", \"id\": \"el9294510645840\"}, {\"color\": \"#55A868\", \"yindex\": 2, \"coordinates\": \"data\", \"dasharray\": \"10,0\", \"zorder\": 2, \"alpha\": 1, \"xindex\": 0, \"linewidth\": 1.75, \"data\": \"data01\", \"id\": \"el9294510664144\"}, {\"color\": \"#4C72B0\", \"yindex\": 1, \"coordinates\": \"axes\", \"dasharray\": \"10,0\", \"zorder\": 1000002.0, \"alpha\": 1, \"xindex\": 0, \"linewidth\": 1.75, \"data\": \"data02\", \"id\": \"el9294510675408\"}, {\"color\": \"#55A868\", \"yindex\": 2, \"coordinates\": \"axes\", \"dasharray\": \"10,0\", \"zorder\": 1000002.0, \"alpha\": 1, \"xindex\": 0, \"linewidth\": 1.75, \"data\": \"data02\", \"id\": \"el9294510677776\"}], \"markers\": [], \"id\": \"el9294610525136\", \"ydomain\": [0.0, 2500000.0], \"collections\": [], \"xscale\": \"linear\", \"bbox\": [0.125, 0.125, 0.77500000000000002, 0.77500000000000002]}], \"height\": 400.0, \"width\": 800.0, \"plugins\": [{\"type\": \"reset\"}, {\"enabled\": false, \"button\": true, \"type\": \"zoom\"}, {\"enabled\": false, \"button\": true, \"type\": \"boxzoom\"}], \"data\": {\"data02\": [[0.016581261200716846, 0.9043010752688172, 0.8541218637992831], [0.05242355510752688, 0.9043010752688172, 0.8541218637992831]], \"data03\": [[0.00896057347670251, 0.8207885304659499], [0.08637712813620074, 0.8207885304659499], [0.08637712813620074, 0.982078853046595], [0.00896057347670251, 0.982078853046595], [0.00896057347670251, 0.8207885304659499]], \"data01\": [[1880.0, 90993.0, 110493.0], [1881.0, 91955.0, 100748.0], [1882.0, 107851.0, 113687.0], [1883.0, 112322.0, 104632.0], [1884.0, 129021.0, 114445.0], [1885.0, 133056.0, 107802.0], [1886.0, 144538.0, 110785.0], [1887.0, 145983.0, 101412.0], [1888.0, 178631.0, 120857.0], [1889.0, 178369.0, 110590.0], [1890.0, 190377.0, 111026.0], [1891.0, 185486.0, 101198.0], [1892.0, 212350.0, 122038.0], [1893.0, 212908.0, 112319.0], [1894.0, 222923.0, 115775.0], [1895.0, 233632.0, 117398.0], [1896.0, 237924.0, 119575.0], [1897.0, 234199.0, 112760.0], [1898.0, 258771.0, 122703.0], [1899.0, 233022.0, 106218.0], [1900.0, 299873.0, 150554.0], [1901.0, 239351.0, 106478.0], [1902.0, 264079.0, 122660.0], [1903.0, 261976.0, 119240.0], [1904.0, 275375.0, 128129.0], [1905.0, 291641.0, 132319.0], [1906.0, 295301.0, 133159.0], [1907.0, 318558.0, 146838.0], [1908.0, 334277.0, 154339.0], [1909.0, 347191.0, 163983.0], [1910.0, 396416.0, 194198.0], [1911.0, 418180.0, 225936.0], [1912.0, 557939.0, 429926.0], [1913.0, 624317.0, 512482.0], [1914.0, 761376.0, 654746.0], [1915.0, 983824.0, 848647.0], [1916.0, 1044249.0, 890142.0], [1917.0, 1081194.0, 925512.0], [1918.0, 1157585.0, 1013720.0], [1919.0, 1130149.0, 980215.0], [1920.0, 1198214.0, 1064468.0], [1921.0, 1232845.0, 1101374.0], [1922.0, 1200796.0, 1088380.0], [1923.0, 1206239.0, 1096227.0], [1924.0, 1248821.0, 1132671.0], [1925.0, 1217217.0, 1115798.0], [1926.0, 1185078.0, 1110440.0], [1927.0, 1192207.0, 1126259.0], [1928.0, 1152836.0, 1107113.0], [1929.0, 1116284.0, 1074833.0], [1930.0, 1125521.0, 1096663.0], [1931.0, 1064233.0, 1038586.0], [1932.0, 1066930.0, 1043512.0], [1933.0, 1007523.0, 990677.0], [1934.0, 1043879.0, 1031962.0], [1935.0, 1048264.0, 1040649.0], [1936.0, 1040068.0, 1036662.0], [1937.0, 1063722.0, 1065964.0], [1938.0, 1103173.0, 1108480.0], [1939.0, 1096394.0, 1106328.0], [1940.0, 1143281.0, 1158668.0], [1941.0, 1207799.0, 1227621.0], [1942.0, 1350524.0, 1380468.0], [1943.0, 1394891.0, 1426400.0], [1944.0, 1327077.0, 1362379.0], [1945.0, 1307299.0, 1346227.0], [1946.0, 1570555.0, 1622540.0], [1947.0, 1772246.0, 1827415.0], [1948.0, 1697664.0, 1753472.0], [1949.0, 1709607.0, 1770104.0], [1950.0, 1713001.0, 1789936.0], [1951.0, 1798537.0, 1877553.0], [1952.0, 1854427.0, 1943533.0], [1953.0, 1880072.0, 1968772.0], [1954.0, 1941562.0, 2036948.0], [1955.0, 1954508.0, 2057390.0], [1956.0, 2007416.0, 2113067.0], [1957.0, 2043983.0, 2155427.0], [1958.0, 2010620.0, 2120014.0], [1959.0, 2022889.0, 2133147.0], [1960.0, 2022062.0, 2132588.0], [1961.0, 2016762.0, 2121629.0], [1962.0, 1966340.0, 2068493.0], [1963.0, 1927055.0, 2031443.0], [1964.0, 1894277.0, 1992762.0], [1965.0, 1764815.0, 1861138.0], [1966.0, 1691650.0, 1783577.0], [1967.0, 1650576.0, 1744222.0], [1968.0, 1639977.0, 1738585.0], [1969.0, 1686705.0, 1789326.0], [1970.0, 1747811.0, 1858782.0], [1971.0, 1663043.0, 1768325.0], [1972.0, 1521044.0, 1622178.0], [1973.0, 1457913.0, 1558562.0], [1974.0, 1467227.0, 1572415.0], [1975.0, 1457349.0, 1561378.0], [1976.0, 1464852.0, 1569098.0], [1977.0, 1532574.0, 1642747.0], [1978.0, 1531242.0, 1641143.0], [1979.0, 1604588.0, 1720781.0], [1980.0, 1659259.0, 1782388.0], [1981.0, 1666833.0, 1789568.0], [1982.0, 1692036.0, 1812642.0], [1983.0, 1669486.0, 1790670.0], [1984.0, 1682396.0, 1802735.0], [1985.0, 1719450.0, 1846162.0], [1986.0, 1714053.0, 1839442.0], [1987.0, 1737508.0, 1865113.0], [1988.0, 1779112.0, 1911858.0], [1989.0, 1843057.0, 1999840.0], [1990.0, 1897256.0, 2052070.0], [1991.0, 1874110.0, 2019018.0], [1992.0, 1842818.0, 1995760.0], [1993.0, 1807795.0, 1959712.0], [1994.0, 1784407.0, 1930363.0], [1995.0, 1757240.0, 1902100.0], [1996.0, 1751681.0, 1892700.0], [1997.0, 1739331.0, 1883571.0], [1998.0, 1765390.0, 1909676.0], [1999.0, 1772139.0, 1918267.0], [2000.0, 1813960.0, 1961702.0], [2001.0, 1798284.0, 1940498.0], [2002.0, 1794358.0, 1938941.0], [2003.0, 1824406.0, 1972439.0], [2004.0, 1833005.0, 1981557.0], [2005.0, 1843890.0, 1993285.0], [2006.0, 1896468.0, 2050234.0], [2007.0, 1916888.0, 2069242.0], [2008.0, 1883645.0, 2032310.0], [2009.0, 1827643.0, 1973359.0], [2010.0, 1759010.0, 1898382.0]]}, \"id\": \"el9294763184400\"});\n",
       "            })\n",
       "         });\n",
       "}\n",
       "</script>"
      ],
      "text/plain": [
       "<IPython.core.display.HTML object>"
      ]
     },
     "execution_count": 18,
     "metadata": {},
     "output_type": "execute_result"
    }
   ],
   "source": [
    "total_birth.plot(kind='line', title='Total birth number of each year', figsize=(10, 5))\n",
    "mpld3.display()"
   ]
  },
  {
   "cell_type": "code",
   "execution_count": null,
   "metadata": {
    "collapsed": true
   },
   "outputs": [],
   "source": []
  },
  {
   "cell_type": "code",
   "execution_count": 15,
   "metadata": {
    "collapsed": true
   },
   "outputs": [],
   "source": [
    "total_birth.plot?"
   ]
  },
  {
   "cell_type": "code",
   "execution_count": null,
   "metadata": {
    "collapsed": true
   },
   "outputs": [],
   "source": []
  }
 ],
 "metadata": {
  "kernelspec": {
   "display_name": "Python 2",
   "language": "python",
   "name": "python2"
  },
  "language_info": {
   "codemirror_mode": {
    "name": "ipython",
    "version": 2
   },
   "file_extension": ".py",
   "mimetype": "text/x-python",
   "name": "python",
   "nbconvert_exporter": "python",
   "pygments_lexer": "ipython2",
   "version": "2.7.6"
  }
 },
 "nbformat": 4,
 "nbformat_minor": 0
}
